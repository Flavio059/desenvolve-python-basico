{
 "cells": [
  {
   "cell_type": "markdown",
   "id": "6a7fc528-2c3f-4660-b1d2-299b954a96e4",
   "metadata": {},
   "source": [
    "Desenvolva um programa em Python que peça ao usuário para inserir dois números decimais e calcule a diferença \n",
    "absoluta entre esses dois números. \n",
    "Utilize a função nativa abs para garantir que o resultado seja sempre positivo e round para arredondar o resultado para duas casas decimais.\r\n",
    "\tExemplo de interação:\r\n",
    "Digite o primeiro número: 3.1415\r\n",
    "Digite o segundo número: 1.4142\r\n",
    "A diferença absoluta entre os números é: 1.73\r\n",
    "\r\n"
   ]
  },
  {
   "cell_type": "code",
   "execution_count": 1,
   "id": "62af4560-52ce-4e91-a343-9af4729f7795",
   "metadata": {},
   "outputs": [
    {
     "name": "stdin",
     "output_type": "stream",
     "text": [
      "Digite o primeiro número:  3.1415\n",
      "Digite o segundo número:  1.4142\n"
     ]
    },
    {
     "name": "stdout",
     "output_type": "stream",
     "text": [
      "A diferença absoluta entre os números é: 1.73\n"
     ]
    }
   ],
   "source": [
    "n1 = float(input(\"Digite o primeiro número: \"))\n",
    "n2 = float(input(\"Digite o segundo número: \"))\n",
    "\n",
    "dif_abs = round(abs(n1 - n2), 2)\n",
    "\n",
    "print(\"A diferença absoluta entre os números é:\", dif_abs)"
   ]
  },
  {
   "cell_type": "code",
   "execution_count": null,
   "id": "154d5a0f-0974-41d8-88d1-be37a709077c",
   "metadata": {},
   "outputs": [],
   "source": []
  }
 ],
 "metadata": {
  "kernelspec": {
   "display_name": "Python 3 (ipykernel)",
   "language": "python",
   "name": "python3"
  },
  "language_info": {
   "codemirror_mode": {
    "name": "ipython",
    "version": 3
   },
   "file_extension": ".py",
   "mimetype": "text/x-python",
   "name": "python",
   "nbconvert_exporter": "python",
   "pygments_lexer": "ipython3",
   "version": "3.11.7"
  }
 },
 "nbformat": 4,
 "nbformat_minor": 5
}
