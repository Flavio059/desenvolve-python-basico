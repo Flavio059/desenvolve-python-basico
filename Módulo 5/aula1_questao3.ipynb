{
 "cells": [
  {
   "cell_type": "markdown",
   "id": "6db62b00-398f-4c20-9e40-da74abc4316d",
   "metadata": {},
   "source": [
    "Escreva um programa em Python que utiliza a biblioteca random para gerar um número aleatório entre 1 e 10 \n",
    "e peça ao usuário para adivinhar o número. Forneça feedback se o palpite é muito alto, muito baixo ou correto. Interrompa a execução somente quando o usuário acertar o palpite.\r\n",
    "Exemplo de interação:\r\n",
    "Adivinhe o número entre 1 e 10: 5\r\n",
    "Muito alto, tente novamente!\r\n",
    "Adivinhe o número entre 1 e 10: 3\r\n",
    "Correto! O número é 3.\r\n",
    "\r\n"
   ]
  },
  {
   "cell_type": "code",
   "execution_count": 2,
   "id": "c90b6f58-b413-4020-994b-2251930fbafb",
   "metadata": {},
   "outputs": [
    {
     "name": "stdin",
     "output_type": "stream",
     "text": [
      "Adivinhe o número entre 1 e 10:  5\n"
     ]
    },
    {
     "name": "stdout",
     "output_type": "stream",
     "text": [
      "Muito baixo, tente novamente!\n"
     ]
    },
    {
     "name": "stdin",
     "output_type": "stream",
     "text": [
      "Adivinhe o número entre 1 e 10:  3\n"
     ]
    },
    {
     "name": "stdout",
     "output_type": "stream",
     "text": [
      "Muito baixo, tente novamente!\n"
     ]
    },
    {
     "name": "stdin",
     "output_type": "stream",
     "text": [
      "Adivinhe o número entre 1 e 10:  1\n"
     ]
    },
    {
     "name": "stdout",
     "output_type": "stream",
     "text": [
      "Muito baixo, tente novamente!\n"
     ]
    },
    {
     "name": "stdin",
     "output_type": "stream",
     "text": [
      "Adivinhe o número entre 1 e 10:  6\n"
     ]
    },
    {
     "name": "stdout",
     "output_type": "stream",
     "text": [
      "Correto!\n"
     ]
    }
   ],
   "source": [
    "import random\n",
    "\n",
    "numeroAleatorio = random.randint(1, 10)\n",
    "\n",
    "while True:\n",
    "    entradaUsuario = int(input(\"Adivinhe o número entre 1 e 10: \"))\n",
    "    \n",
    "    if entradaUsuario == numeroAleatorio:\n",
    "        print(\"Correto!\")\n",
    "        break\n",
    "    elif entradaUsuario < numeroAleatorio:\n",
    "        print(\"Muito baixo, tente novamente!\")\n",
    "    else:\n",
    "        print(\"Muito alto, tente novamente!\")"
   ]
  },
  {
   "cell_type": "code",
   "execution_count": null,
   "id": "9af07198-369d-44cd-9fda-0337ba428262",
   "metadata": {},
   "outputs": [],
   "source": []
  }
 ],
 "metadata": {
  "kernelspec": {
   "display_name": "Python 3 (ipykernel)",
   "language": "python",
   "name": "python3"
  },
  "language_info": {
   "codemirror_mode": {
    "name": "ipython",
    "version": 3
   },
   "file_extension": ".py",
   "mimetype": "text/x-python",
   "name": "python",
   "nbconvert_exporter": "python",
   "pygments_lexer": "ipython3",
   "version": "3.11.7"
  }
 },
 "nbformat": 4,
 "nbformat_minor": 5
}
