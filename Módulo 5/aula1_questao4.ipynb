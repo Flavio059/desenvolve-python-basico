{
 "cells": [
  {
   "cell_type": "markdown",
   "id": "bd8312dd-2399-46bb-9a70-aac77bf2c7e3",
   "metadata": {},
   "source": [
    "Escreva um programa em Python que utiliza a biblioteca datetime para exibir a data e hora atuais \n",
    "com a formatação apresentada a seguir:\r\n",
    "Data: 15/03/2023 \r\n",
    "Hora: 14:05\r\n",
    "\r\n",
    "\r\n"
   ]
  },
  {
   "cell_type": "code",
   "execution_count": 1,
   "id": "0c99196d-2ff6-4004-8bf4-725fb2b3f9c1",
   "metadata": {},
   "outputs": [
    {
     "name": "stdout",
     "output_type": "stream",
     "text": [
      "Data: 21/06/2024\n",
      "Hora:13:45\n"
     ]
    }
   ],
   "source": [
    "from datetime import datetime\n",
    "\n",
    "dataHhoraAtual = datetime.now()\n",
    "\n",
    "dataFormatada = dataHhoraAtual.strftime(\"%d/%m/%Y\")\n",
    "horaFormatada = dataHhoraAtual.strftime(\"%H:%M\")\n",
    "\n",
    "print(f\"Data: {dataFormatada}\")\n",
    "print(f\"Hora:{horaFormatada}\")"
   ]
  },
  {
   "cell_type": "code",
   "execution_count": null,
   "id": "688e60fb-f315-48ee-8ec8-6484034b1d49",
   "metadata": {},
   "outputs": [],
   "source": []
  }
 ],
 "metadata": {
  "kernelspec": {
   "display_name": "Python 3 (ipykernel)",
   "language": "python",
   "name": "python3"
  },
  "language_info": {
   "codemirror_mode": {
    "name": "ipython",
    "version": 3
   },
   "file_extension": ".py",
   "mimetype": "text/x-python",
   "name": "python",
   "nbconvert_exporter": "python",
   "pygments_lexer": "ipython3",
   "version": "3.11.7"
  }
 },
 "nbformat": 4,
 "nbformat_minor": 5
}
