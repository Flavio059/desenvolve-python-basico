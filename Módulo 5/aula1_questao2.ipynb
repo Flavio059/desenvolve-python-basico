{
 "cells": [
  {
   "cell_type": "markdown",
   "id": "7a66ba5a-41c6-4acb-a65f-a089b907dddc",
   "metadata": {},
   "source": [
    "Escreva um código que gere n valores inteiros aleatórios entre 0 e 100 e calcule a raíz quadrada da soma dos valores. \n",
    "Peça ao usuário o valor de n\r\n",
    "Biblioteca random: Função randint()\r\n",
    "Biblioteca math: Função sqrt()\r\n"
   ]
  },
  {
   "cell_type": "code",
   "execution_count": 1,
   "id": "75510f01-f7dd-4cb1-9ca1-2e59ddff5f4b",
   "metadata": {},
   "outputs": [
    {
     "name": "stdin",
     "output_type": "stream",
     "text": [
      "Digite o valor de n:  25\n"
     ]
    },
    {
     "name": "stdout",
     "output_type": "stream",
     "text": [
      "A raiz quadrada resultante da soma dos 25 valores aleatorios = 38.86\n"
     ]
    }
   ],
   "source": [
    "import random\n",
    "from math import sqrt\n",
    "\n",
    "n = int(input(\"Digite o valor de n: \"))\n",
    "\n",
    "valores = [random.randint(0, 100) for _ in range(n)]\n",
    "soma = sum(valores)\n",
    "\n",
    "raiz = sqrt(soma)\n",
    "\n",
    "print(f'A raiz quadrada resultante da soma dos {n} valores aleatorios = {raiz:.2f}')"
   ]
  },
  {
   "cell_type": "code",
   "execution_count": null,
   "id": "261947b6-ef45-4489-a932-3eb90f0d16de",
   "metadata": {},
   "outputs": [],
   "source": []
  }
 ],
 "metadata": {
  "kernelspec": {
   "display_name": "Python 3 (ipykernel)",
   "language": "python",
   "name": "python3"
  },
  "language_info": {
   "codemirror_mode": {
    "name": "ipython",
    "version": 3
   },
   "file_extension": ".py",
   "mimetype": "text/x-python",
   "name": "python",
   "nbconvert_exporter": "python",
   "pygments_lexer": "ipython3",
   "version": "3.11.7"
  }
 },
 "nbformat": 4,
 "nbformat_minor": 5
}
