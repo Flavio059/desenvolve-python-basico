{
 "cells": [
  {
   "cell_type": "markdown",
   "id": "7ecd0650-fbb4-4627-ad7b-049f3de89383",
   "metadata": {},
   "source": [
    "2) Dando continuidade à questão anterior, um outro bar permite a entrada de grupos onde pelo menos uma pessoa é maior de idade\n",
    "(ficando responsável pelas outras). Ajuste sua resposta da questão anterior, ainda solicitando as idades de Juliana e Cris, mas ajustando a expressão para esse novo cenário, imprimindo True se puderem entrar no bar, e False caso contrário."
   ]
  },
  {
   "cell_type": "code",
   "execution_count": 4,
   "id": "1d0cde5a-281e-4576-a723-a93ada230881",
   "metadata": {},
   "outputs": [
    {
     "name": "stdin",
     "output_type": "stream",
     "text": [
      "\n",
      "Digite a idade de Juliana:  15\n",
      "\n",
      "Digite a idade de Cris:  16\n"
     ]
    },
    {
     "name": "stdout",
     "output_type": "stream",
     "text": [
      "\n",
      "False\n",
      "\n"
     ]
    }
   ],
   "source": [
    "Juliana = int (input (\"\\nDigite a idade de Juliana: \"))\n",
    "Cris = int (input (\"\\nDigite a idade de Cris: \"))\n",
    "\n",
    "if Juliana > 17 or Cris > 17:\n",
    "    print(\"\\nTrue\\n\")\n",
    "else:\n",
    "    print(\"\\nFalse\\n\")"
   ]
  },
  {
   "cell_type": "code",
   "execution_count": null,
   "id": "cd0bf0a6-5a1c-473a-842e-78a151c3a59c",
   "metadata": {},
   "outputs": [],
   "source": []
  }
 ],
 "metadata": {
  "kernelspec": {
   "display_name": "Python 3 (ipykernel)",
   "language": "python",
   "name": "python3"
  },
  "language_info": {
   "codemirror_mode": {
    "name": "ipython",
    "version": 3
   },
   "file_extension": ".py",
   "mimetype": "text/x-python",
   "name": "python",
   "nbconvert_exporter": "python",
   "pygments_lexer": "ipython3",
   "version": "3.11.7"
  }
 },
 "nbformat": 4,
 "nbformat_minor": 5
}
