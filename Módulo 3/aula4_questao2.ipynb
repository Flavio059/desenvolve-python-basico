{
 "cells": [
  {
   "cell_type": "markdown",
   "id": "3845d176-302b-4afd-bf9a-e5e973c6c7bf",
   "metadata": {},
   "source": [
    "2) Você está criando um sistema de classificação de filmes com base nas avaliações dos usuários.\n",
    "Escreva um programa em Python que solicita ao usuário para inserir a avaliação de um filme em uma escala de 1 a 5. O programa deve imprimir uma mensagem correspondente à classificação do filme:\r\n",
    "Se a avaliação for 5, imprima \"Excelente!\"\r\n",
    "Se a avaliação for 4, imprima \"Muito Bom!\"\r\n",
    "Se a avaliação for 3, imprima \"Bom!\"\r\n",
    "Se a avaliação for 2, imprima \"Regular.\"\r\n",
    "Se a avaliação for 1, imprima \"Ruim.\""
   ]
  },
  {
   "cell_type": "code",
   "execution_count": 2,
   "id": "b1a8d2c3-d7f3-4813-ace9-76a26edf2604",
   "metadata": {},
   "outputs": [
    {
     "name": "stdin",
     "output_type": "stream",
     "text": [
      "Insira uma avaliação para o filme X em uma escala de 1 a 5:  1\n"
     ]
    },
    {
     "name": "stdout",
     "output_type": "stream",
     "text": [
      "Ruim.\n"
     ]
    }
   ],
   "source": [
    "avaliacao = int (input(\"Insira uma avaliação para o filme X em uma escala de 1 a 5: \"))\n",
    "\n",
    "if avaliacao == 5:\n",
    "    print(\"Excelente!\")\n",
    "elif avaliacao == 4:\n",
    "    print(\"Muito Bom!\")\n",
    "elif avaliacao == 3:\n",
    "    print(\"Bom!\")\n",
    "elif avaliacao == 2:\n",
    "    print(\"Regular.\")\n",
    "else:\n",
    "    print(\"Ruim.\")"
   ]
  },
  {
   "cell_type": "code",
   "execution_count": null,
   "id": "7a588100-73ed-4446-9b54-a3649c59b54a",
   "metadata": {},
   "outputs": [],
   "source": []
  }
 ],
 "metadata": {
  "kernelspec": {
   "display_name": "Python 3 (ipykernel)",
   "language": "python",
   "name": "python3"
  },
  "language_info": {
   "codemirror_mode": {
    "name": "ipython",
    "version": 3
   },
   "file_extension": ".py",
   "mimetype": "text/x-python",
   "name": "python",
   "nbconvert_exporter": "python",
   "pygments_lexer": "ipython3",
   "version": "3.11.7"
  }
 },
 "nbformat": 4,
 "nbformat_minor": 5
}
