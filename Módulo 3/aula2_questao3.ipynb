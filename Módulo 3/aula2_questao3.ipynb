{
 "cells": [
  {
   "cell_type": "markdown",
   "id": "dfe20117-aa4d-4dbf-965e-ca6055eba9de",
   "metadata": {},
   "source": [
    "3) Você está desenvolvendo um sistema de admissão para um clube juvenil de jogos de tabuleiro.\n",
    "Escreva um programa em Python que pergunte ao usuário sua idade, se já jogou pelo menos 3 jogos de tabuleiro (resposta deve ser True ou False) e quantas vezes venceu um jogo. O programa deve imprimir True, permitindo o ingresso do participante no clube, se:\r\n",
    "tiver entre 16 e 18 anos\r\n",
    "já tiver jogado pelo menos 3 jogos\r\n",
    "já ter vencido pelo menos 1 jogo, \r\n",
    "Sua expressão deve imprimir False caso contrário. Aqui está um exemplo de interação com seu código no terminal, com entradas de dados destacadas em negrito e as impressões de seu código em itálico (apenas para facilitar sua visualização).\r\n",
    "\r\n",
    "Digite sua idade: 17\r\n",
    "Já jogou pelo menos 3 jogos de tabuleiro? True\r\n",
    "Quantos jogos já venceu? 2\r\n",
    "Apto para ingressar no clube de jogos de tabuleiro: True"
   ]
  },
  {
   "cell_type": "code",
   "execution_count": 1,
   "id": "d9eefc75-cc5b-437d-b99e-4f7d8082e51f",
   "metadata": {},
   "outputs": [
    {
     "name": "stdin",
     "output_type": "stream",
     "text": [
      "Digite sua idade:  17\n",
      "Já jogou pelo menos 3 jogos de tabuleiro?  True\n",
      "Quantos jogos já venceu?  2\n"
     ]
    },
    {
     "name": "stdout",
     "output_type": "stream",
     "text": [
      "Apto para ingressar no clube de jogos de tabuleiro:  True\n"
     ]
    }
   ],
   "source": [
    "idade=int(input(\"Digite sua idade: \"))\n",
    "NdeJogos=bool(input(\"Já jogou pelo menos 3 jogos de tabuleiro? \"))\n",
    "NdeVitorias= int(input(\"Quantos jogos já venceu? \"))\n",
    "print(\"Apto para ingressar no clube de jogos de tabuleiro: \",(idade>=16 and idade<=18) and (NdeJogos==True) and (NdeVitorias>=1))"
   ]
  },
  {
   "cell_type": "code",
   "execution_count": null,
   "id": "b91c968e-07a3-43bf-bcf8-3037f6375094",
   "metadata": {},
   "outputs": [],
   "source": []
  }
 ],
 "metadata": {
  "kernelspec": {
   "display_name": "Python 3 (ipykernel)",
   "language": "python",
   "name": "python3"
  },
  "language_info": {
   "codemirror_mode": {
    "name": "ipython",
    "version": 3
   },
   "file_extension": ".py",
   "mimetype": "text/x-python",
   "name": "python",
   "nbconvert_exporter": "python",
   "pygments_lexer": "ipython3",
   "version": "3.11.7"
  }
 },
 "nbformat": 4,
 "nbformat_minor": 5
}
