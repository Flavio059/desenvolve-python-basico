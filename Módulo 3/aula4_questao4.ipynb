{
 "cells": [
  {
   "cell_type": "markdown",
   "id": "9ba6fe5b-fca8-4388-b358-6074cef32d11",
   "metadata": {},
   "source": [
    "4) Você está implementando um sistema de entrega expressa e precisa calcular o valor do frete com base na distância\n",
    "e no peso do pacote.\n",
    "Escreva um código que solicita a distância da entrega em quilômetros e o peso do pacote em quilogramas.\n",
    "O programa deve calcular e imprimir o valor do frete de acordo com as seguintes regras:\r\n",
    "Distância até 100 km: R$1 por kg.\r\n",
    "Distância entre 101 e 300 km: R$1.50 por kg.\r\n",
    "Distância acima de 300 km: R$2 por kg.\r\n",
    "Acrescente uma taxa de R$10 para pacotes com peso superior a 10 kg"
   ]
  },
  {
   "cell_type": "code",
   "execution_count": 1,
   "id": "99b38c19-eeb2-4f3d-9ab4-946537398c0f",
   "metadata": {},
   "outputs": [
    {
     "name": "stdin",
     "output_type": "stream",
     "text": [
      "Digite a distância em KM:  150\n",
      "Digite o peso do pacote em KG:  60\n"
     ]
    },
    {
     "name": "stdout",
     "output_type": "stream",
     "text": [
      "O valor do frete será 100.0 reais\n"
     ]
    }
   ],
   "source": [
    "distancia = int (input(\"Digite a distância em KM: \"))\n",
    "peso = float (input(\"Digite o peso do pacote em KG: \"))\n",
    "\n",
    "if distancia <= 100:\n",
    "    frete = 1\n",
    "elif distancia >= 101 and distancia <= 300:\n",
    "    frete = 1.5\n",
    "else:\n",
    "    frete = 2\n",
    "\n",
    "if peso > 10:\n",
    "    print(f\"O valor do frete será {(peso*frete)+10} reais\")\n",
    "else:\n",
    "    print(f\"O valor do frete será {peso*frete} reais\")"
   ]
  },
  {
   "cell_type": "code",
   "execution_count": null,
   "id": "746b550f-4890-469d-be19-18a03d3390ca",
   "metadata": {},
   "outputs": [],
   "source": []
  }
 ],
 "metadata": {
  "kernelspec": {
   "display_name": "Python 3 (ipykernel)",
   "language": "python",
   "name": "python3"
  },
  "language_info": {
   "codemirror_mode": {
    "name": "ipython",
    "version": 3
   },
   "file_extension": ".py",
   "mimetype": "text/x-python",
   "name": "python",
   "nbconvert_exporter": "python",
   "pygments_lexer": "ipython3",
   "version": "3.11.7"
  }
 },
 "nbformat": 4,
 "nbformat_minor": 5
}
