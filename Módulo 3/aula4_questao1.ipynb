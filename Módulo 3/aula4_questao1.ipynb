{
 "cells": [
  {
   "cell_type": "markdown",
   "id": "1144b46b-c210-4293-8289-59ceec717e7b",
   "metadata": {},
   "source": [
    "1) Escreva um programa que lê dois números e informa se a sua soma é par ou ímpar. Critério: se o resto da divisão do número por 2 for 0, o número é par, \n",
    "caso contrário é ímpar. Lembre-se do operador do python % que retorna o resto de uma divisão.   "
   ]
  },
  {
   "cell_type": "code",
   "execution_count": 5,
   "id": "59cc30c5-1634-4c54-8647-ce84236bbbf6",
   "metadata": {},
   "outputs": [
    {
     "ename": "IndentationError",
     "evalue": "unexpected indent (147622935.py, line 2)",
     "output_type": "error",
     "traceback": [
      "\u001b[1;36m  Cell \u001b[1;32mIn[5], line 2\u001b[1;36m\u001b[0m\n\u001b[1;33m    if ((n1+n2) % 2) == 0:\u001b[0m\n\u001b[1;37m    ^\u001b[0m\n\u001b[1;31mIndentationError\u001b[0m\u001b[1;31m:\u001b[0m unexpected indent\n"
     ]
    }
   ],
   "source": [
    "   n1, n2 = int(input()), int(input())\n",
    "    if ((n1+n2) % 2) == 0:\n",
    "        print(\"É par\")\n",
    "    else: \n",
    "        print(\"É impar\")\n"
   ]
  },
  {
   "cell_type": "code",
   "execution_count": null,
   "id": "0b1a983d-317e-4eb8-bb13-87dae5695047",
   "metadata": {},
   "outputs": [],
   "source": [
    "n1, n2 = int(input()), int(input())\n",
    "print(\"É par\" if <(n1+n2) % 2 == 0> else \"É impar\")\n"
   ]
  },
  {
   "cell_type": "code",
   "execution_count": null,
   "id": "6bcb2193-204f-426c-a2ef-ddaa17154e17",
   "metadata": {},
   "outputs": [],
   "source": [
    "a, b, c = int(input)), int(input()), input(input())\n",
    "delta = b**2 - 4*a*c\n",
    "if delta > 0:\n",
    "    raiz1 = (-b + delta**(1/2)) / (2*a)\n",
    "    raiz2 = (-b - delta**(1/2)) / (2*a)\n",
    "    print(raiz1, raiz2)\n",
    "else:\n",
    "    print(\"Não tem raizes reais\")"
   ]
  }
 ],
 "metadata": {
  "kernelspec": {
   "display_name": "Python 3 (ipykernel)",
   "language": "python",
   "name": "python3"
  },
  "language_info": {
   "codemirror_mode": {
    "name": "ipython",
    "version": 3
   },
   "file_extension": ".py",
   "mimetype": "text/x-python",
   "name": "python",
   "nbconvert_exporter": "python",
   "pygments_lexer": "ipython3",
   "version": "3.11.7"
  }
 },
 "nbformat": 4,
 "nbformat_minor": 5
}
