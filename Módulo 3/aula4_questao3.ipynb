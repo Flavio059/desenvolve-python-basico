{
 "cells": [
  {
   "cell_type": "markdown",
   "id": "00d63354-7be2-495b-b884-65d9203ebf0a",
   "metadata": {},
   "source": [
    "3) Você está desenvolvendo um programa para verificar se um ano é bissexto.\n",
    "Escreva um código em Python que solicita ao usuário para inserir um ano e imprime \"Bissexto\" se o ano for (1) divisível por 4 e não for divisível por 100, ou (2) se for divisível por 400. Caso contrário, imprima \"Não Bissexto\".\r\n",
    "Teste seu código com os valores: 1900 (não bissexto), 2000 (bissexto), 2016 (bissexto) e 2017 (não bissexto). "
   ]
  },
  {
   "cell_type": "code",
   "execution_count": 5,
   "id": "98aecf4c-92fd-4473-8b66-77ea42243284",
   "metadata": {},
   "outputs": [
    {
     "name": "stdin",
     "output_type": "stream",
     "text": [
      "O ano avaliado é:  1900\n"
     ]
    },
    {
     "name": "stdout",
     "output_type": "stream",
     "text": [
      "Não Bissexto\n"
     ]
    }
   ],
   "source": [
    "ano=int(input(\"O ano avaliado é: \"))\n",
    "print(\"Bissexto\" if(ano%4==0 and ano%100!=0) or (ano%400==0) else \"Não Bissexto\")"
   ]
  },
  {
   "cell_type": "code",
   "execution_count": null,
   "id": "f3ea90a2-4fe8-4071-a678-e7799aab3a77",
   "metadata": {},
   "outputs": [],
   "source": []
  }
 ],
 "metadata": {
  "kernelspec": {
   "display_name": "Python 3 (ipykernel)",
   "language": "python",
   "name": "python3"
  },
  "language_info": {
   "codemirror_mode": {
    "name": "ipython",
    "version": 3
   },
   "file_extension": ".py",
   "mimetype": "text/x-python",
   "name": "python",
   "nbconvert_exporter": "python",
   "pygments_lexer": "ipython3",
   "version": "3.11.7"
  }
 },
 "nbformat": 4,
 "nbformat_minor": 5
}
