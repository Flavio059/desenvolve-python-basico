{
 "cells": [
  {
   "cell_type": "markdown",
   "id": "e716ea8e-bced-4ce6-a176-78a2751d3e00",
   "metadata": {},
   "source": [
    "1) Juliana e Cris querem entrar em um bar, mas só podem se ambos forem maiores de idade (>17). Escreva um programa que solicite\n",
    "as idades de Juliana e Cris e imprima True se ambas forem maiores de 17 anos, indicando que podem entrar no bar, e False caso contrário."
   ]
  },
  {
   "cell_type": "code",
   "execution_count": null,
   "id": "8ad6d734-eec5-4f80-85e0-9765a0b27551",
   "metadata": {},
   "outputs": [],
   "source": [
    "Juliana = int (input (\"\\nDigite a idade de Juliana: \"))\n",
    "Cris = int (input (\"\\nDigite a idade de Cris: \"))\n",
    "\n",
    "if Juliana > 17 and Cris > 17:\n",
    "    print(\"\\nTrue\\n\")\n",
    "else:\n",
    "    print(\"\\nFalse\\n\")"
   ]
  },
  {
   "cell_type": "code",
   "execution_count": null,
   "id": "d6e19363-a582-49fc-aead-8086682386e3",
   "metadata": {},
   "outputs": [],
   "source": []
  }
 ],
 "metadata": {
  "kernelspec": {
   "display_name": "Python 3 (ipykernel)",
   "language": "python",
   "name": "python3"
  },
  "language_info": {
   "codemirror_mode": {
    "name": "ipython",
    "version": 3
   },
   "file_extension": ".py",
   "mimetype": "text/x-python",
   "name": "python",
   "nbconvert_exporter": "python",
   "pygments_lexer": "ipython3",
   "version": "3.11.7"
  }
 },
 "nbformat": 4,
 "nbformat_minor": 5
}
