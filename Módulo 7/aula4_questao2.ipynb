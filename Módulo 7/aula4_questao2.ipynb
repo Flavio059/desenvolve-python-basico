{
 "cells": [
  {
   "cell_type": "markdown",
   "id": "e141bcb9-95fc-4813-a532-dd2e8d1cafa4",
   "metadata": {},
   "source": [
    " Escreva um script que leia o arquivo salvo no exercício anterior e salva em um novo arquivo \"palavras.txt\", removendo todos os espaços em branco e caracteres não alfabéticos, e separando cada palavra em uma linha. Ao final, imprima o conteúdo do arquivo \"palavras.txt\".\r\n",
    "Ex:\r\n",
    "Bom\r\n",
    "dia\r\n",
    "meu\r\n",
    "nome\r\n",
    "é\r\n",
    "Davi\r\n"
   ]
  },
  {
   "cell_type": "code",
   "execution_count": null,
   "id": "f13678f6-2a2c-4b3b-939c-95c5a51895af",
   "metadata": {},
   "outputs": [],
   "source": [
    "import string\n",
    "\n",
    "def limpar_palavra(palavra):\n",
    "    palavra_limpa = ''.join(caracter for caracter in palavra if caracter.isalpha())\n",
    "    return palavra_limpa.lower()\n",
    "\n",
    "def main():\n",
    "    arquivo_entrada = \"frase.txt\"\n",
    "    arquivo_saida = \"palavras.txt\"\n",
    "    \n",
    "    with open(arquivo_entrada, 'r') as arquivo:\n",
    "        frase = arquivo.read().strip()\n",
    "    \n",
    "    palavras = frase.split()\n",
    "    \n",
    "    palavras_limpas = []\n",
    "    \n",
    "    for palavra in palavras:\n",
    "        palavra_limpa = limpar_palavra(palavra)\n",
    "        if palavra_limpa:\n",
    "            palavras_limpas.append(palavra_limpa)\n",
    "    \n",
    "    with open(arquivo_saida, 'w') as arquivo:\n",
    "        for palavra in palavras_limpas:\n",
    "            arquivo.write(palavra + '\\n')\n",
    "    \n",
    "    with open(arquivo_saida, 'r') as arquivo:\n",
    "        conteudo = arquivo.read()\n",
    "        print(conteudo)\n",
    "\n",
    "if __name__ == \"__main__\":\n",
    "    main()"
   ]
  }
 ],
 "metadata": {
  "kernelspec": {
   "display_name": "Python 3 (ipykernel)",
   "language": "python",
   "name": "python3"
  },
  "language_info": {
   "codemirror_mode": {
    "name": "ipython",
    "version": 3
   },
   "file_extension": ".py",
   "mimetype": "text/x-python",
   "name": "python",
   "nbconvert_exporter": "python",
   "pygments_lexer": "ipython3",
   "version": "3.11.7"
  }
 },
 "nbformat": 4,
 "nbformat_minor": 5
}
