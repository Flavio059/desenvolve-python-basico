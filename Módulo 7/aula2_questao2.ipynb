{
 "cells": [
  {
   "cell_type": "markdown",
   "id": "79eb8a36-3568-4626-97e6-ecc86347b2b0",
   "metadata": {},
   "source": [
    "Desenvolva um programa que solicite ao usuário inserir uma frase e substitua todas as ocorrências de vogal por \"*\".\r\n",
    "Ex:\r\n",
    "Digite uma frase: O rato roeu a roupa do rei\r\n",
    "Frase modificada: * r*t* r*** * r**p* d* r**"
   ]
  },
  {
   "cell_type": "code",
   "execution_count": 1,
   "id": "efd8d006-779e-4e28-8644-bc26a678b157",
   "metadata": {},
   "outputs": [
    {
     "name": "stdin",
     "output_type": "stream",
     "text": [
      "Digite uma frase:  O céu é azul\n"
     ]
    },
    {
     "name": "stdout",
     "output_type": "stream",
     "text": [
      "Frase modificada: * cé* é *z*l\n"
     ]
    }
   ],
   "source": [
    "def substituir_vogais_por_asterisco(frase):\n",
    "    vogais = ['a', 'e', 'i', 'o', 'u', 'A', 'E', 'I', 'O', 'U']\n",
    "    \n",
    "    for vogal in vogais:\n",
    "        frase = frase.replace(vogal, \"*\")\n",
    "    \n",
    "    return frase\n",
    "\n",
    "frase_original = input(\"Digite uma frase: \")\n",
    "\n",
    "frase_modificada = substituir_vogais_por_asterisco(frase_original)\n",
    "\n",
    "print(\"Frase modificada:\", frase_modificada)"
   ]
  },
  {
   "cell_type": "code",
   "execution_count": null,
   "id": "3f656ba2-85c6-4cc8-b24a-8190419b5bb9",
   "metadata": {},
   "outputs": [],
   "source": []
  }
 ],
 "metadata": {
  "kernelspec": {
   "display_name": "Python 3 (ipykernel)",
   "language": "python",
   "name": "python3"
  },
  "language_info": {
   "codemirror_mode": {
    "name": "ipython",
    "version": 3
   },
   "file_extension": ".py",
   "mimetype": "text/x-python",
   "name": "python",
   "nbconvert_exporter": "python",
   "pygments_lexer": "ipython3",
   "version": "3.11.7"
  }
 },
 "nbformat": 4,
 "nbformat_minor": 5
}
