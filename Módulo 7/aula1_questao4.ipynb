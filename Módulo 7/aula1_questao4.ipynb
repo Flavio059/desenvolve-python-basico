{
 "cells": [
  {
   "cell_type": "code",
   "execution_count": null,
   "id": "05c3d3fc-b5f7-4fd2-a048-935abab6d725",
   "metadata": {},
   "outputs": [],
   "source": [
    "Faça um programa que leia um número de celular e, caso o número tenha apenas 8 dígitos, acrescente o 9 na frente. Caso o número já tenha 9 dígitos, verifique se o primeiro dígito é 9. Adicione o separador \"-\" na sua impressão.\n",
    "Digite o número: 97651234\n",
    "Número completo: 99765-1234\n",
    "Digite o número: 980876543\n",
    "Número completo: 98087-6543 \n",
    "\n"
   ]
  },
  {
   "cell_type": "code",
   "execution_count": 1,
   "id": "674adb5c-4d1d-4fed-a36c-b3b27e58819c",
   "metadata": {},
   "outputs": [
    {
     "name": "stdin",
     "output_type": "stream",
     "text": [
      "Digite o número:  11\n"
     ]
    },
    {
     "name": "stdout",
     "output_type": "stream",
     "text": [
      "Número completo: 11\n"
     ]
    }
   ],
   "source": [
    "numero = input(\"Digite o número: \")\n",
    "\n",
    "if len(numero) == 8: \n",
    "    numero_completo = \"9\" + numero\n",
    "elif len(numero) == 9:  \n",
    "    if numero[0] == \"9\":  \n",
    "        numero_completo = numero[:5] + \"-\" + numero[5:]  \n",
    "    else:\n",
    "        numero_completo = numero  \n",
    "else:\n",
    "    numero_completo = numero  \n",
    "\n",
    "print(\"Número completo:\", numero_completo)"
   ]
  },
  {
   "cell_type": "code",
   "execution_count": null,
   "id": "5e74af62-79bb-47a8-8a34-ee6c4d693005",
   "metadata": {},
   "outputs": [],
   "source": []
  }
 ],
 "metadata": {
  "kernelspec": {
   "display_name": "Python 3 (ipykernel)",
   "language": "python",
   "name": "python3"
  },
  "language_info": {
   "codemirror_mode": {
    "name": "ipython",
    "version": 3
   },
   "file_extension": ".py",
   "mimetype": "text/x-python",
   "name": "python",
   "nbconvert_exporter": "python",
   "pygments_lexer": "ipython3",
   "version": "3.11.7"
  }
 },
 "nbformat": 4,
 "nbformat_minor": 5
}
