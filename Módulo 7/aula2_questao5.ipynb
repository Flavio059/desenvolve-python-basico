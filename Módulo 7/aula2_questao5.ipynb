{
 "cells": [
  {
   "cell_type": "markdown",
   "id": "78a4d236-f2aa-429a-b26d-7c6ebf4a8c4e",
   "metadata": {},
   "source": [
    "De acordo com uma pesquisa do linguista Matt Davis, o cérebro humano consegue ler palavras com as letras embaralhadas,\n",
    "contanto que a primeira e a última letra estejam no lugar correto. Implemente uma função chamada embaralhar_palavras() para ajudar a testar a hipótese do Matt Davis. Sua função vai receber uma frase, embaralhar as letras internas de cada palavra e retornar a frase modificada. Dica: use a biblioteca random.\r\n",
    "\r\n",
    "Complete o seguinte código:\r\n",
    "def embaralhar_palavras(frase):\r\n",
    "    #### Escreva a função\r\n",
    "\r\n",
    "# Exemplo de uso:\r\n",
    "frase = \"Python é uma linguagem de programação\"\r\n",
    "resultado = embaralhar_palavras(frase)\r\n",
    "print(resultado)\r\n",
    "# Possível saída: \"Ptohyn é uma lignaugem de prarmoagãço\""
   ]
  },
  {
   "cell_type": "code",
   "execution_count": 2,
   "id": "46bc5dc6-e717-4eab-a321-5910d1573fb4",
   "metadata": {},
   "outputs": [
    {
     "name": "stdout",
     "output_type": "stream",
     "text": [
      "Pohytn é uma langiguem de pgamcoaarro\n"
     ]
    }
   ],
   "source": [
    "import random\n",
    "\n",
    "def embaralhar_palavras(frase):\n",
    "    palavras = frase.split()  \n",
    "    frase_embaralhada = []\n",
    "    for palavra in palavras:\n",
    "        if len(palavra) > 3: \n",
    "            caracteres = list(palavra[1:-1])  \n",
    "            random.shuffle(caracteres)  \n",
    "            palavra_embaralhada = palavra[0] + ''.join(caracteres) + palavra[-1]  \n",
    "            frase_embaralhada.append(palavra_embaralhada)\n",
    "        else:\n",
    "            frase_embaralhada.append(palavra)  \n",
    "\n",
    "    return ' '.join(frase_embaralhada)\n",
    "\n",
    "frase = \"Python é uma linguagem de programacao\"\n",
    "resultado = embaralhar_palavras(frase)\n",
    "print(resultado)"
   ]
  },
  {
   "cell_type": "code",
   "execution_count": null,
   "id": "6f1de4a4-eb17-43f5-9d82-a8db1fb67abb",
   "metadata": {},
   "outputs": [],
   "source": []
  }
 ],
 "metadata": {
  "kernelspec": {
   "display_name": "Python 3 (ipykernel)",
   "language": "python",
   "name": "python3"
  },
  "language_info": {
   "codemirror_mode": {
    "name": "ipython",
    "version": 3
   },
   "file_extension": ".py",
   "mimetype": "text/x-python",
   "name": "python",
   "nbconvert_exporter": "python",
   "pygments_lexer": "ipython3",
   "version": "3.11.7"
  }
 },
 "nbformat": 4,
 "nbformat_minor": 5
}
