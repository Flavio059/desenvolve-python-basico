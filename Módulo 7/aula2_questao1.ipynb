{
 "cells": [
  {
   "cell_type": "markdown",
   "id": "0d3aaabf-fbbb-4902-8291-9fff5c37c481",
   "metadata": {},
   "source": [
    "Faça um programa que solicite a data de nascimento (dd/mm/aaaa) do usuário e imprima a data com o nome do mês por extenso. \r\n",
    "Dica: usando listas você não precisa fazer um \"if\" para cada mês.\r\n",
    "Ex:\r\n",
    "Digite uma data de nascimento: 29/10/1973\r\n",
    "Você nasceu em  29 de Outubro de 1973."
   ]
  },
  {
   "cell_type": "code",
   "execution_count": 1,
   "id": "347b134f-7956-46a5-addc-8afb701e3312",
   "metadata": {},
   "outputs": [
    {
     "name": "stdin",
     "output_type": "stream",
     "text": [
      "Digite a data de nascimento (dd/mm/aaaa):  02/02/1985\n"
     ]
    },
    {
     "name": "stdout",
     "output_type": "stream",
     "text": [
      "Você nasceu em 02 de Fevereiro de 1985\n"
     ]
    }
   ],
   "source": [
    "def data_por_extenso(data):\n",
    "    meses = {\n",
    "        \"01\": \"Janeiro\",\n",
    "        \"02\": \"Fevereiro\",\n",
    "        \"03\": \"Março\",\n",
    "        \"04\": \"Abril\",\n",
    "        \"05\": \"Maio\",\n",
    "        \"06\": \"Junho\",\n",
    "        \"07\": \"Julho\",\n",
    "        \"08\": \"Agosto\",\n",
    "        \"09\": \"Setembro\",\n",
    "        \"10\": \"Outubro\",\n",
    "        \"11\": \"Novembro\",\n",
    "        \"12\": \"Dezembro\"\n",
    "    }\n",
    "    \n",
    "    dia, mes, ano = data.split(\"/\")\n",
    "    \n",
    "    return f\"{dia} de {meses[mes]} de {ano}\"\n",
    "\n",
    "data_nascimento = input(\"Digite a data de nascimento (dd/mm/aaaa): \")\n",
    "\n",
    "print(\"Você nasceu em\", data_por_extenso(data_nascimento))"
   ]
  },
  {
   "cell_type": "code",
   "execution_count": null,
   "id": "49bffecd-eeaf-45a3-8fa6-dc39de44c2f5",
   "metadata": {},
   "outputs": [],
   "source": []
  }
 ],
 "metadata": {
  "kernelspec": {
   "display_name": "Python 3 (ipykernel)",
   "language": "python",
   "name": "python3"
  },
  "language_info": {
   "codemirror_mode": {
    "name": "ipython",
    "version": 3
   },
   "file_extension": ".py",
   "mimetype": "text/x-python",
   "name": "python",
   "nbconvert_exporter": "python",
   "pygments_lexer": "ipython3",
   "version": "3.11.7"
  }
 },
 "nbformat": 4,
 "nbformat_minor": 5
}
