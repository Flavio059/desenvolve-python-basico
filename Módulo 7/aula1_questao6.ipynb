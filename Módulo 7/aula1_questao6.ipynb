{
 "cells": [
  {
   "cell_type": "markdown",
   "id": "4c155588-4658-4a03-9983-8d47891428c4",
   "metadata": {},
   "source": [
    "Dada uma string e uma palavra objetivo, encontre todos os anagramas da palavra objetivo. Anagramas são palavras com os mesmos caracteres rearranjados. Digite uma frase:\"O mMeu amor mora em Roma e me deu um ramo de flore\"s Digite a palavra objetivo: amor Anagramas: [\"amor\", \"mora\", \"ramo\", \"Roma]"
   ]
  },
  {
   "cell_type": "code",
   "execution_count": null,
   "id": "2326944d-adf4-4506-9f29-13a0c52aa7fa",
   "metadata": {},
   "outputs": [],
   "source": [
    "frase = \"O meu amor mora em Roma e me deu um ramo de flores\"\n",
    "objetivo = sorted (\"amor\")\n",
    "lst_palavras = frase.lower().split()\n",
    "for palavra in lst_palavras:\n",
    "    if sorted(palavra) == objetivo:\n",
    "        print(palavra)"
   ]
  },
  {
   "cell_type": "code",
   "execution_count": null,
   "id": "dbad723c-8bb2-4b7c-9f55-ed8def64d49d",
   "metadata": {},
   "outputs": [],
   "source": []
  }
 ],
 "metadata": {
  "kernelspec": {
   "display_name": "Python 3 (ipykernel)",
   "language": "python",
   "name": "python3"
  },
  "language_info": {
   "codemirror_mode": {
    "name": "ipython",
    "version": 3
   },
   "file_extension": ".py",
   "mimetype": "text/x-python",
   "name": "python",
   "nbconvert_exporter": "python",
   "pygments_lexer": "ipython3",
   "version": "3.11.7"
  }
 },
 "nbformat": 4,
 "nbformat_minor": 5
}
