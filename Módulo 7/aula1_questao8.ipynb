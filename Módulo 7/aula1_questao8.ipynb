{
 "cells": [
  {
   "cell_type": "code",
   "execution_count": 1,
   "id": "7483ec90-abb4-4df0-978e-ebd9ddae9565",
   "metadata": {},
   "outputs": [
    {
     "name": "stdin",
     "output_type": "stream",
     "text": [
      "Digite o CPF (XXX.XXX.XXX-XX):  06383022695\n"
     ]
    },
    {
     "name": "stdout",
     "output_type": "stream",
     "text": [
      "CPF válido\n"
     ]
    }
   ],
   "source": [
    "def validar_cpf(cpf):\n",
    "    cpf = cpf.replace(\".\", \"\").replace(\"-\", \"\")\n",
    "    soma = 0\n",
    "\n",
    "    for i in range(9):\n",
    "        soma += int(cpf[i]) * (10 - i)\n",
    "    resto = soma % 11\n",
    "    if resto < 2:\n",
    "        digito_verificador_1 = 0\n",
    "    else:\n",
    "        digito_verificador_1 = 11 - resto\n",
    "\n",
    "    if int(cpf[9]) != digito_verificador_1:\n",
    "        return False\n",
    "    \n",
    "    soma = 0\n",
    "    for i in range(10):\n",
    "        soma += int(cpf[i]) * (11 - i)\n",
    "    resto = soma % 11\n",
    "    if resto < 2:\n",
    "        digito_verificador_2 = 0\n",
    "    else:\n",
    "        digito_verificador_2 = 11 - resto\n",
    "\n",
    "    if int(cpf[10]) != digito_verificador_2:\n",
    "        return False\n",
    "    \n",
    "    return True\n",
    "\n",
    "cpf = input(\"Digite o CPF (XXX.XXX.XXX-XX): \")\n",
    "if validar_cpf(cpf):\n",
    "    print(\"CPF válido\")\n",
    "else:\n",
    "    print(\"CPF inválido\")"
   ]
  },
  {
   "cell_type": "code",
   "execution_count": null,
   "id": "903d8749-cc02-495a-8015-8d32e93f2d99",
   "metadata": {},
   "outputs": [],
   "source": []
  }
 ],
 "metadata": {
  "kernelspec": {
   "display_name": "Python 3 (ipykernel)",
   "language": "python",
   "name": "python3"
  },
  "language_info": {
   "codemirror_mode": {
    "name": "ipython",
    "version": 3
   },
   "file_extension": ".py",
   "mimetype": "text/x-python",
   "name": "python",
   "nbconvert_exporter": "python",
   "pygments_lexer": "ipython3",
   "version": "3.11.7"
  }
 },
 "nbformat": 4,
 "nbformat_minor": 5
}
