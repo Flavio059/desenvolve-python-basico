{
 "cells": [
  {
   "cell_type": "markdown",
   "id": "c6e1ae72-21a7-4cb5-9be8-df363765daae",
   "metadata": {},
   "source": [
    " Vamos descobrir as músicas mais populares do Spotify nos últimos 10 anos!\r\n",
    "Crie uma conta no Kaggle, uma das principais plataformas de ciência de dados e aprendizado de máquina. Em disciplinas avançadas vamos trabalhar com bases de dados provenientes de lá! (http://kaggle.com/)\r\n",
    "Baixe o arquivo spotify-2023.csv no final da página que apresenta os dados: https://www.kaggle.com/datasets/nelgiriyewithana/top-spotify-songs-2023\r\n",
    "No Python, abra o arquivo para leitura e imprima as cinco primeiras linhas\r\n",
    "Ao abrir o arquivo, defina o parâmetro encoding='latin-1'  na função open\r\n",
    "Após compreender a estrutura do arquivo (divisão em colunas, caracter separador de coluna, etc.) passamos para a etapa de extração de informações.\r\n",
    "O arquivo está estruturado da seguinte forma: cada linha representa uma música e contém as seguintes informações separadas por vírgula (CSV):\r\n",
    "\r\n",
    "track_name,artist(s)_name,artist_count,released_year,released_month,released_day,in_spotify_playlists,in_spotify_charts,streams,in_apple_playlists\r\n",
    "\r\n",
    "Usaremos apenas informações das colunas:\r\n",
    "track_name: Nome da música\r\n",
    "artist(s)_name: Nome do artista\r\n",
    "artist_count: Número de artistas listados em artist(s)_name\r\n",
    "released_year: Ano de lançamento\r\n",
    "streams: Número de vezes que a música foi tocada no Spotify\r\n",
    "Você deve criar um script Python para processar esse arquivo e gerar uma lista com 10 elementos, cada qual representando a música mais tocada de cada ano no intervalo de 2012 a 2022. Considere somente músicas dentro do intervalo solicitado. Cada elemento da lista produzida deve conter as seguintes informações:\r\n",
    "\r\n",
    "[track_name, artist(s)_name, released_year, streams]\r\n",
    "\r\n",
    "Essa atividade tem alguns desafios. Assim como as colunas da tabela são separadas por vírgulas, músicas com mais de um artista (artist_count>1) terá o campo artist(s)_name entre aspas com o nome dos artistas separado por vírgulas. \r\n",
    "\r\n",
    "Ex: Seven (feat. Latto) (Explicit Ver.),\"Latto, Jung Kook\",2,2023, …\r\n",
    "\r\n",
    "Há também nomes de músicas entre aspas por conter caracteres especiais como vírgulas ou aspas. \r\n",
    "\r\n",
    "Ex: \"Peso Pluma: Bzrp Music Sessions,Vol.55\",\"Bizarrap,Peso Pluma\",2,2023,\r\n",
    "\r\n",
    "Você deve ignorar essas linhas, e terá portanto que propor uma verificação para identificá-las.\r\n",
    "\r\n",
    "Ao final imprima a lista produzida. Ex:\r\n",
    "[ ['When I Was Your Man', 'Bruno Mars', 2012, 1661187319],\r\n",
    " ['I Wanna Be Yours', 'Arctic Monkeys', 2013, 1297026226],\r\n",
    " ...,\r\n",
    " ['As It Was', 'Harry Styles', 2022, 2513188493] ]"
   ]
  },
  {
   "cell_type": "code",
   "execution_count": 1,
   "id": "1d32f350-b26a-4454-ace3-61e55e5ded83",
   "metadata": {},
   "outputs": [
    {
     "ename": "FileNotFoundError",
     "evalue": "[Errno 2] No such file or directory: 'spotify-2023.csv'",
     "output_type": "error",
     "traceback": [
      "\u001b[1;31m---------------------------------------------------------------------------\u001b[0m",
      "\u001b[1;31mFileNotFoundError\u001b[0m                         Traceback (most recent call last)",
      "Cell \u001b[1;32mIn[1], line 9\u001b[0m\n\u001b[0;32m      6\u001b[0m musicas_populares \u001b[38;5;241m=\u001b[39m []\n\u001b[0;32m      8\u001b[0m \u001b[38;5;66;03m# Abre o arquivo CSV\u001b[39;00m\n\u001b[1;32m----> 9\u001b[0m \u001b[38;5;28;01mwith\u001b[39;00m \u001b[38;5;28mopen\u001b[39m(\u001b[38;5;124m'\u001b[39m\u001b[38;5;124mspotify-2023.csv\u001b[39m\u001b[38;5;124m'\u001b[39m, mode\u001b[38;5;241m=\u001b[39m\u001b[38;5;124m'\u001b[39m\u001b[38;5;124mr\u001b[39m\u001b[38;5;124m'\u001b[39m, encoding\u001b[38;5;241m=\u001b[39m\u001b[38;5;124m'\u001b[39m\u001b[38;5;124mlatin-1\u001b[39m\u001b[38;5;124m'\u001b[39m) \u001b[38;5;28;01mas\u001b[39;00m arquivo_csv:\n\u001b[0;32m     10\u001b[0m     csv_reader \u001b[38;5;241m=\u001b[39m csv\u001b[38;5;241m.\u001b[39mreader(arquivo_csv)\n\u001b[0;32m     12\u001b[0m     \u001b[38;5;28mnext\u001b[39m(csv_reader)\n",
      "File \u001b[1;32m~\\anaconda3\\Lib\\site-packages\\IPython\\core\\interactiveshell.py:310\u001b[0m, in \u001b[0;36m_modified_open\u001b[1;34m(file, *args, **kwargs)\u001b[0m\n\u001b[0;32m    303\u001b[0m \u001b[38;5;28;01mif\u001b[39;00m file \u001b[38;5;129;01min\u001b[39;00m {\u001b[38;5;241m0\u001b[39m, \u001b[38;5;241m1\u001b[39m, \u001b[38;5;241m2\u001b[39m}:\n\u001b[0;32m    304\u001b[0m     \u001b[38;5;28;01mraise\u001b[39;00m \u001b[38;5;167;01mValueError\u001b[39;00m(\n\u001b[0;32m    305\u001b[0m         \u001b[38;5;124mf\u001b[39m\u001b[38;5;124m\"\u001b[39m\u001b[38;5;124mIPython won\u001b[39m\u001b[38;5;124m'\u001b[39m\u001b[38;5;124mt let you open fd=\u001b[39m\u001b[38;5;132;01m{\u001b[39;00mfile\u001b[38;5;132;01m}\u001b[39;00m\u001b[38;5;124m by default \u001b[39m\u001b[38;5;124m\"\u001b[39m\n\u001b[0;32m    306\u001b[0m         \u001b[38;5;124m\"\u001b[39m\u001b[38;5;124mas it is likely to crash IPython. If you know what you are doing, \u001b[39m\u001b[38;5;124m\"\u001b[39m\n\u001b[0;32m    307\u001b[0m         \u001b[38;5;124m\"\u001b[39m\u001b[38;5;124myou can use builtins\u001b[39m\u001b[38;5;124m'\u001b[39m\u001b[38;5;124m open.\u001b[39m\u001b[38;5;124m\"\u001b[39m\n\u001b[0;32m    308\u001b[0m     )\n\u001b[1;32m--> 310\u001b[0m \u001b[38;5;28;01mreturn\u001b[39;00m io_open(file, \u001b[38;5;241m*\u001b[39margs, \u001b[38;5;241m*\u001b[39m\u001b[38;5;241m*\u001b[39mkwargs)\n",
      "\u001b[1;31mFileNotFoundError\u001b[0m: [Errno 2] No such file or directory: 'spotify-2023.csv'"
     ]
    }
   ],
   "source": [
    "import csv\n",
    "\n",
    "def deve_ignorar_linha(artist_name):\n",
    "    return artist_name.startswith('\"') and artist_name.endswith('\"')\n",
    "\n",
    "musicas_populares = []\n",
    "\n",
    "# Abre o arquivo CSV\n",
    "with open('spotify-2023.csv', mode='r', encoding='latin-1') as arquivo_csv:\n",
    "    csv_reader = csv.reader(arquivo_csv)\n",
    "    \n",
    "    next(csv_reader)\n",
    "    \n",
    "    musica_por_ano = {}\n",
    "\n",
    "    for linha in csv_reader:\n",
    "        track_name = linha[0].strip()\n",
    "        artist_name = linha[1].strip()\n",
    "        artist_count = int(linha[2].strip())\n",
    "        released_year = int(linha[3].strip())\n",
    "        streams = int(linha[8].strip())\n",
    "\n",
    "        if deve_ignorar_linha(artist_name):\n",
    "            continue\n",
    "        \n",
    "        if released_year >= 2012 and released_year <= 2022:\n",
    "            if released_year not in musica_por_ano:\n",
    "                musica_por_ano[released_year] = [track_name, artist_name, released_year, streams]\n",
    "            else:\n",
    "                if streams > musica_por_ano[released_year][3]:\n",
    "                    musica_por_ano[released_year] = [track_name, artist_name, released_year, streams]\n",
    "\n",
    "    musicas_populares = list(musica_por_ano.values())\n",
    "\n",
    "musicas_populares.sort(key=lambda x: x[2])\n",
    "\n",
    "for musica in musicas_populares:\n",
    "    print(musica)"
   ]
  },
  {
   "cell_type": "code",
   "execution_count": null,
   "id": "6b42fa8e-0868-4871-b2d8-c7e3a7c2c335",
   "metadata": {},
   "outputs": [],
   "source": []
  }
 ],
 "metadata": {
  "kernelspec": {
   "display_name": "Python 3 (ipykernel)",
   "language": "python",
   "name": "python3"
  },
  "language_info": {
   "codemirror_mode": {
    "name": "ipython",
    "version": 3
   },
   "file_extension": ".py",
   "mimetype": "text/x-python",
   "name": "python",
   "nbconvert_exporter": "python",
   "pygments_lexer": "ipython3",
   "version": "3.11.7"
  }
 },
 "nbformat": 4,
 "nbformat_minor": 5
}
