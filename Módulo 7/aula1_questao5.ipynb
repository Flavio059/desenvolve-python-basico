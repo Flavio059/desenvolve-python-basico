{
 "cells": [
  {
   "cell_type": "markdown",
   "id": "39997c79-1357-4eb8-b907-d66c59ad7df2",
   "metadata": {},
   "source": [
    "Implemente um código que leia uma string do usuário e imprima quantas vogais existem na frase e quais os seus índices da string\n",
    "\n",
    "Ex: \"O meu amor mora em Roma e me deu um ramo de flores\"\n",
    "\n",
    "Dica: letra in \"aeiou\""
   ]
  },
  {
   "cell_type": "code",
   "execution_count": 2,
   "id": "96fa0856-b646-4542-a0e6-f5ea0af67d38",
   "metadata": {},
   "outputs": [
    {
     "name": "stdout",
     "output_type": "stream",
     "text": [
      "20\n",
      "[0, 3, 4, 6, 8, 12, 14, 16, 20, 22, 24, 27, 30, 31, 33, 37, 39, 42, 46, 48]\n"
     ]
    }
   ],
   "source": [
    "frase = \"O meu amor mora em Roma e me deu um ramo de flores\"\n",
    "\n",
    "count_vogais = 0\n",
    "indices = []\n",
    "for i in range(len(frase)):\n",
    "    if frase[i].lower() in \"aeiou\":\n",
    "        count_vogais += 1\n",
    "        indices.append(i)\n",
    "print(count_vogais)\n",
    "print(indices)"
   ]
  },
  {
   "cell_type": "markdown",
   "id": "07f013c2-b07c-4ebc-902b-089c4198717d",
   "metadata": {},
   "source": [
    "a] \r\n",
    "\r\n"
   ]
  },
  {
   "cell_type": "code",
   "execution_count": null,
   "id": "7ea8d968-d95b-47c0-8ebe-ececff45c7d9",
   "metadata": {},
   "outputs": [],
   "source": []
  }
 ],
 "metadata": {
  "kernelspec": {
   "display_name": "Python 3 (ipykernel)",
   "language": "python",
   "name": "python3"
  },
  "language_info": {
   "codemirror_mode": {
    "name": "ipython",
    "version": 3
   },
   "file_extension": ".py",
   "mimetype": "text/x-python",
   "name": "python",
   "nbconvert_exporter": "python",
   "pygments_lexer": "ipython3",
   "version": "3.11.7"
  }
 },
 "nbformat": 4,
 "nbformat_minor": 5
}
