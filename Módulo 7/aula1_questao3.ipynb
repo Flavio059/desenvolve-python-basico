{
 "cells": [
  {
   "cell_type": "markdown",
   "id": "dc03aca9-5b57-4e83-9c63-f20d46388124",
   "metadata": {},
   "source": [
    "Escreva um script que dado uma frase conta os espaços em branco.\r\n",
    "Digite a frase: Meu amor mora em Roma e me deu um ramo de flores\r\n",
    "Espaços em branco: 11\r\n",
    "\r\n"
   ]
  },
  {
   "cell_type": "code",
   "execution_count": 1,
   "id": "5dfc30e8-4643-4c21-a461-a9d485846175",
   "metadata": {},
   "outputs": [
    {
     "name": "stdin",
     "output_type": "stream",
     "text": [
      "Digite a frase:  Meu amor mora em Roma e me deu um ramo de flores\n"
     ]
    },
    {
     "name": "stdout",
     "output_type": "stream",
     "text": [
      "Espaços em branco: 11\n"
     ]
    }
   ],
   "source": [
    "frase = input(\"Digite a frase: \")\n",
    "\n",
    "espacos_em_branco = frase.count(\" \")\n",
    "\n",
    "print(\"Espaços em branco:\", espacos_em_branco)"
   ]
  },
  {
   "cell_type": "code",
   "execution_count": null,
   "id": "268f79b1-7051-4856-b37a-3bad527e72f4",
   "metadata": {},
   "outputs": [],
   "source": []
  }
 ],
 "metadata": {
  "kernelspec": {
   "display_name": "Python 3 (ipykernel)",
   "language": "python",
   "name": "python3"
  },
  "language_info": {
   "codemirror_mode": {
    "name": "ipython",
    "version": 3
   },
   "file_extension": ".py",
   "mimetype": "text/x-python",
   "name": "python",
   "nbconvert_exporter": "python",
   "pygments_lexer": "ipython3",
   "version": "3.11.7"
  }
 },
 "nbformat": 4,
 "nbformat_minor": 5
}
