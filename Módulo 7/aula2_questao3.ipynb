{
 "cells": [
  {
   "cell_type": "markdown",
   "id": "bfe085c3-b170-4fed-8275-29de8bbd0525",
   "metadata": {},
   "source": [
    "Desenvolva um programa que verifique se uma frase fornecida pelo usuário é um palíndromo (ou seja, lida da mesma forma de trás para frente). Ignore espaços em branco ou sinais de pontuação, e considere maiúsculas e minúsculas da mesma forma. Seu programa deve continuar rodando até que o usuário digite \"Fim\".Ex:\r\n",
    "\r\n",
    "Digite uma frase (digite \"fim\" para encerrar): Radar\r\n",
    "\"Radar\" é palíndromo\r\n",
    "Digite uma frase (digite \"fim\" para encerrar): Bom dia!\r\n",
    "\"Bom dia!\" não é palíndromo\r\n",
    "Digite uma frase (digite \"fim\" para encerrar): Ame o poema\r\n",
    "\"Ame o poema\" é palíndromo\r\n",
    "Digite uma frase (digite \"fim\" para encerrar): A Daniela ama a lei? Nada!\r\n",
    "\"A Daniela ama a lei? Nada!\" é palíndromo\r\n",
    "Digite uma frase (digite \"fim\" para encerrar): fim"
   ]
  },
  {
   "cell_type": "code",
   "execution_count": null,
   "id": "09061c0a-29fd-4be5-a5b2-49a0d1a491fc",
   "metadata": {},
   "outputs": [
    {
     "name": "stdin",
     "output_type": "stream",
     "text": [
      "Digite uma frase (digite 'fim' para encerrar):  O mar e vermelho\n"
     ]
    },
    {
     "name": "stdout",
     "output_type": "stream",
     "text": [
      "\"O mar e vermelho\" não é palíndromo\n"
     ]
    }
   ],
   "source": [
    "def remover_pontuacao_e_espacos(frase):\n",
    "    caracteres_pontuacao = ''',.!?;:()[]{}\"'<>'''\n",
    "    frase_sem_pontuacao = ''.join(caracter for caracter in frase if caracter not in caracteres_pontuacao)\n",
    "    return frase_sem_pontuacao.lower()\n",
    "\n",
    "def verificar_palindromo(frase):\n",
    "    frase = remover_pontuacao_e_espacos(frase)\n",
    "    if frase == frase[::-1]:\n",
    "        return True\n",
    "    else:\n",
    "        return False\n",
    "\n",
    "while True:\n",
    "    frase = input(\"Digite uma frase (digite 'fim' para encerrar): \")\n",
    "    if frase.lower() == 'fim':\n",
    "        break\n",
    "    if verificar_palindromo(frase):\n",
    "        print(f'\"{frase}\" é palíndromo')\n",
    "    else:\n",
    "        print(f'\"{frase}\" não é palíndromo')"
   ]
  },
  {
   "cell_type": "code",
   "execution_count": null,
   "id": "a83d4d66-5777-4c13-bfb3-82221f62ea40",
   "metadata": {},
   "outputs": [],
   "source": []
  }
 ],
 "metadata": {
  "kernelspec": {
   "display_name": "Python 3 (ipykernel)",
   "language": "python",
   "name": "python3"
  },
  "language_info": {
   "codemirror_mode": {
    "name": "ipython",
    "version": 3
   },
   "file_extension": ".py",
   "mimetype": "text/x-python",
   "name": "python",
   "nbconvert_exporter": "python",
   "pygments_lexer": "ipython3",
   "version": "3.11.7"
  }
 },
 "nbformat": 4,
 "nbformat_minor": 5
}
