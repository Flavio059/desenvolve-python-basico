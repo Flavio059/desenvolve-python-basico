{
 "cells": [
  {
   "cell_type": "markdown",
   "id": "ea033f51-9705-459c-b775-54568069643d",
   "metadata": {},
   "source": [
    "Implemente uma função em Python chamada validador_senha() que verifica se uma senha fornecida atende todos os seguintes critérios:\r\n",
    "Pelo menos 8 caracteres de comprimento.\r\n",
    "Contém pelo menos uma letra maiúscula e uma letra minúscula.\r\n",
    "Contém pelo menos um número.\r\n",
    "Contém pelo menos um caractere especial (por exemplo, @, #, $).\r\n",
    "Complete o seguinte código:\r\n",
    "def validador_senha(senha):\r\n",
    "    #### Escreva a função\r\n",
    "\r\n",
    "# Exemplo de uso:\r\n",
    "senha1 = \"Senha123@\"\r\n",
    "senha2 = \"senhafraca\"\r\n",
    "senha3 = \"Senha_fraca\"\r\n",
    "print(validador_senha(senha1))  # Saída esperada: True\r\n",
    "print(validador_senha(senha2))  # Saída esperada: False\r\n",
    "print(validador_senha(senha3))  # Saída esperada: False"
   ]
  },
  {
   "cell_type": "code",
   "execution_count": 1,
   "id": "75081732-366d-464f-8a82-f14d99d2abd7",
   "metadata": {},
   "outputs": [
    {
     "name": "stdout",
     "output_type": "stream",
     "text": [
      "True\n",
      "False\n",
      "False\n"
     ]
    }
   ],
   "source": [
    "import re\n",
    "\n",
    "def validador_senha(senha):\n",
    "    if len(senha) < 8:\n",
    "        return False\n",
    "    if not re.search(r'[A-Z]', senha):\n",
    "        return False\n",
    "    if not re.search(r'[a-z]', senha):\n",
    "        return False\n",
    "    if not re.search(r'\\d', senha):\n",
    "        return False\n",
    "    if not re.search(r'[!@#$%^&*()-_=+{};:,<.>]', senha):\n",
    "        return False\n",
    "    return True\n",
    "\n",
    "senha1 = \"Senha123@\"\n",
    "senha2 = \"senhafraca\"\n",
    "senha3 = \"Senha_fraca\"\n",
    "\n",
    "print(validador_senha(senha1))  \n",
    "print(validador_senha(senha2))  \n",
    "print(validador_senha(senha3))"
   ]
  },
  {
   "cell_type": "code",
   "execution_count": null,
   "id": "5981f4d6-8e49-4ea8-98a0-015cc187a2b9",
   "metadata": {},
   "outputs": [],
   "source": []
  }
 ],
 "metadata": {
  "kernelspec": {
   "display_name": "Python 3 (ipykernel)",
   "language": "python",
   "name": "python3"
  },
  "language_info": {
   "codemirror_mode": {
    "name": "ipython",
    "version": 3
   },
   "file_extension": ".py",
   "mimetype": "text/x-python",
   "name": "python",
   "nbconvert_exporter": "python",
   "pygments_lexer": "ipython3",
   "version": "3.11.7"
  }
 },
 "nbformat": 4,
 "nbformat_minor": 5
}
