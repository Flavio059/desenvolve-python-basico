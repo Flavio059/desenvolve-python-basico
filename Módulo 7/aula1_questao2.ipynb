{
 "cells": [
  {
   "cell_type": "code",
   "execution_count": null,
   "id": "311a3101-d106-4ca6-a4f4-bfb5de41652a",
   "metadata": {},
   "outputs": [],
   "source": [
    "Escreva um programa que solicite ao usuário inserir seu primeiro nome e sobrenome separadamente. Em seguida, concatene essas duas strings e exiba a mensagem de boas-vindas.\n",
    "Digite seu primeiro nome: Alice\n",
    "Digite seu sobrenome: Silva\n",
    "Bem-vinda, Alice Silva! \n",
    "\n"
   ]
  },
  {
   "cell_type": "code",
   "execution_count": 2,
   "id": "baf613e6-a8e0-4d41-98d1-6369865bd7ad",
   "metadata": {},
   "outputs": [
    {
     "name": "stdin",
     "output_type": "stream",
     "text": [
      "Digite seu primeiro nome:  Flavio\n",
      "Digite seu sobrenome:  henrique\n"
     ]
    },
    {
     "name": "stdout",
     "output_type": "stream",
     "text": [
      "Bem-vindo, Flavio henrique !\n"
     ]
    }
   ],
   "source": [
    "primeiro_nome = input(\"Digite seu primeiro nome: \")\n",
    "\n",
    "sobrenome = input(\"Digite seu sobrenome: \")\n",
    "\n",
    "nome_completo = primeiro_nome + \" \" + sobrenome\n",
    "\n",
    "print(\"Bem-vindo,\", nome_completo, \"!\")"
   ]
  },
  {
   "cell_type": "code",
   "execution_count": null,
   "id": "17314d62-a27e-4f15-8c7e-c57534d1b9fb",
   "metadata": {},
   "outputs": [],
   "source": []
  }
 ],
 "metadata": {
  "kernelspec": {
   "display_name": "Python 3 (ipykernel)",
   "language": "python",
   "name": "python3"
  },
  "language_info": {
   "codemirror_mode": {
    "name": "ipython",
    "version": 3
   },
   "file_extension": ".py",
   "mimetype": "text/x-python",
   "name": "python",
   "nbconvert_exporter": "python",
   "pygments_lexer": "ipython3",
   "version": "3.11.7"
  }
 },
 "nbformat": 4,
 "nbformat_minor": 5
}
