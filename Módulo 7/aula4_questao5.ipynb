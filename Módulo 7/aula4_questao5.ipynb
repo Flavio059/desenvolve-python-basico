{
 "cells": [
  {
   "cell_type": "markdown",
   "id": "ac112739-778e-403b-8968-b3542c2a9bf3",
   "metadata": {},
   "source": [
    "A extensão \".csv\" significa \"comma-separated values\" ou \"valores separados por vírgula\". É a extensão utilizada por sistemas de gerência de tabelas como o Microsoft Excel ou Google Sheets. Nesse exercício vamos criar uma planilha com dados sobre livros que você já leu ou gostaria de ler. Siga as instruções.\r\n",
    "Selecione pelo menos 10 livros que você leu ou gostaria de ler. Você deve reunir as seguintes informações: título, autor, ano de publicação e número de páginas.\r\n",
    "No Python, crie um arquivo chamado \"meus_livros.csv\", aberto para escrita.\r\n",
    "Na primeira linha escreva os títulos da planilha separados por vírgula (sem espaço em branco). Os títulos são: \"Título\", \"Autor\", \"Ano de publicação\" e \"Número de páginas\". Lembre de finalizar a linha com uma quebra de linha.\r\n",
    "A partir da segunda linha escreva as informações de cada livro que você levantou, separando cada informação por uma vírgula (sem espaço em branco). Lembre de finalizar cada linha com uma quebra de linha.\r\n",
    "Feche o arquivo para salvá-lo e abra com a ferramenta de planilhas de sua escolha. Como você já tem conta no Google, sugiro abrir com o Google Sheets.\r\n",
    "Seu arquivo deve ser aberto como uma planilha parecida com a imagem anexada neste exercício.\r\n"
   ]
  },
  {
   "cell_type": "code",
   "execution_count": 1,
   "id": "1216e969-4a0f-48b3-9c47-f1d8ff4f1529",
   "metadata": {},
   "outputs": [
    {
     "name": "stdout",
     "output_type": "stream",
     "text": [
      "Arquivo 'meus_livros.csv' criado com sucesso!\n"
     ]
    }
   ],
   "source": [
    "import csv\n",
    "\n",
    "livros = [\n",
    "    {\"Título\": \"Harry Potter and the Sorcerer's Stone\", \"Autor\": \"J.K. Rowling\", \"Ano de publicação\": 1997, \"Número de páginas\": 320},\n",
    "    {\"Título\": \"To Kill a Mockingbird\", \"Autor\": \"Harper Lee\", \"Ano de publicação\": 1960, \"Número de páginas\": 281},\n",
    "    {\"Título\": \"1984\", \"Autor\": \"George Orwell\", \"Ano de publicação\": 1949, \"Número de páginas\": 328},\n",
    "    {\"Título\": \"The Catcher in the Rye\", \"Autor\": \"J.D. Salinger\", \"Ano de publicação\": 1951, \"Número de páginas\": 277},\n",
    "    {\"Título\": \"Pride and Prejudice\", \"Autor\": \"Jane Austen\", \"Ano de publicação\": 1813, \"Número de páginas\": 279},\n",
    "    {\"Título\": \"The Hobbit\", \"Autor\": \"J.R.R. Tolkien\", \"Ano de publicação\": 1937, \"Número de páginas\": 310},\n",
    "    {\"Título\": \"The Great Gatsby\", \"Autor\": \"F. Scott Fitzgerald\", \"Ano de publicação\": 1925, \"Número de páginas\": 180},\n",
    "    {\"Título\": \"The Da Vinci Code\", \"Autor\": \"Dan Brown\", \"Ano de publicação\": 2003, \"Número de páginas\": 454},\n",
    "    {\"Título\": \"The Alchemist\", \"Autor\": \"Paulo Coelho\", \"Ano de publicação\": 1988, \"Número de páginas\": 197},\n",
    "    {\"Título\": \"The Hitchhiker's Guide to the Galaxy\", \"Autor\": \"Douglas Adams\", \"Ano de publicação\": 1979, \"Número de páginas\": 224}\n",
    "]\n",
    "\n",
    "nome_arquivo = \"meus_livros.csv\"\n",
    "\n",
    "with open(nome_arquivo, mode='w', newline='', encoding='utf-8') as arquivo_csv:\n",
    "    escritor_csv = csv.writer(arquivo_csv)\n",
    "    escritor_csv.writerow([\"Título\", \"Autor\", \"Ano de publicação\", \"Número de páginas\"])\n",
    "\n",
    "    for livro in livros:\n",
    "        escritor_csv.writerow([livro[\"Título\"], livro[\"Autor\"], livro[\"Ano de publicação\"], livro[\"Número de páginas\"]])\n",
    "\n",
    "print(f\"Arquivo '{nome_arquivo}' criado com sucesso!\")"
   ]
  },
  {
   "cell_type": "code",
   "execution_count": null,
   "id": "6c62d1b1-97f3-4769-9a6b-66365a09f607",
   "metadata": {},
   "outputs": [],
   "source": []
  }
 ],
 "metadata": {
  "kernelspec": {
   "display_name": "Python 3 (ipykernel)",
   "language": "python",
   "name": "python3"
  },
  "language_info": {
   "codemirror_mode": {
    "name": "ipython",
    "version": 3
   },
   "file_extension": ".py",
   "mimetype": "text/x-python",
   "name": "python",
   "nbconvert_exporter": "python",
   "pygments_lexer": "ipython3",
   "version": "3.11.7"
  }
 },
 "nbformat": 4,
 "nbformat_minor": 5
}
