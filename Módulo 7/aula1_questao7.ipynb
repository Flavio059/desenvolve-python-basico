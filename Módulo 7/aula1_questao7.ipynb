{
 "cells": [
  {
   "cell_type": "markdown",
   "id": "7f6197e1-565a-4df7-b7dd-fdf2d322c23d",
   "metadata": {},
   "source": [
    "Crie a função encrypt() que recebe uma lista de strings e retorna os nomes criptografados, bem como a chave da criptografia. Regras:\r\n",
    "Chave de criptografia: gere um valor n aleatório entre 1 e 10\r\n",
    "Substitua cada caracter c pelo caracter c + n. Trabalharemos apenas com o intervalo de caracteres visíveis (entre 33 e 126 na tabela Unicode)\r\n",
    "nomes = [\"Luana\", \"Ju\", \"Davi\", \"Vivi\", \"Pri\", \"Luiz\"]\r\n",
    "chave_aleatoria = 5\r\n",
    "nomes_cript = ['Qzfsf', 'Oz', 'If{n', '[n{n', 'Uwn', 'Qzn!']\r\n",
    "\r\n"
   ]
  },
  {
   "cell_type": "code",
   "execution_count": 3,
   "id": "b76c730d-1e11-4ed3-a49d-9dfcae657b88",
   "metadata": {},
   "outputs": [],
   "source": [
    "import random\n",
    "\n",
    "def encrypt(nomes):\n",
    "    chave_aleatoria = random.randint(1, 10)\n",
    "\n",
    "    nomes_cript = []\n",
    "\n",
    "    for nome in nomes:\n",
    "        nome_criptografado = \"\"\n",
    "\n",
    "        for char in nome:\n",
    "            if ord(char) >= 33 and ord(char) <= 126:\n",
    "                novo_char = chr((ord(char) - 33 + chave_aleatoria) % 94 + 33)\n",
    "                nome_criptografado += novo_char\n",
    "            else:\n",
    "                nome_criptografado += char\n",
    "\n",
    "        nomes_cript.append(nome_criptografado)\n",
    "    \n",
    "    return nomes_cript, chave_aleatoria"
   ]
  },
  {
   "cell_type": "code",
   "execution_count": null,
   "id": "c514c7bb-5668-45a7-bdc2-f3433ec48209",
   "metadata": {},
   "outputs": [],
   "source": []
  }
 ],
 "metadata": {
  "kernelspec": {
   "display_name": "Python 3 (ipykernel)",
   "language": "python",
   "name": "python3"
  },
  "language_info": {
   "codemirror_mode": {
    "name": "ipython",
    "version": 3
   },
   "file_extension": ".py",
   "mimetype": "text/x-python",
   "name": "python",
   "nbconvert_exporter": "python",
   "pygments_lexer": "ipython3",
   "version": "3.11.7"
  }
 },
 "nbformat": 4,
 "nbformat_minor": 5
}
