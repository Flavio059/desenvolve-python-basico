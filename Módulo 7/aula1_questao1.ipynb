{
 "cells": [
  {
   "cell_type": "markdown",
   "id": "90b45f49-cc5c-400f-9f4f-6fdfa4bf550a",
   "metadata": {},
   "source": [
    "Escreva um programa que solicita o nome do usuário e o imprime em forma de escada, como indicado no exemplo a seguir.\r\n",
    "Digite seu nome: Fulano\r\n",
    "F\r\n",
    "Fu\r\n",
    "Ful\r\n",
    "Fula\r\n",
    "Fulan\r\n",
    "Fulano\r\n",
    "\r\n"
   ]
  },
  {
   "cell_type": "code",
   "execution_count": 1,
   "id": "f0e12165-98ef-4d69-9cab-82356e62feac",
   "metadata": {},
   "outputs": [
    {
     "name": "stdin",
     "output_type": "stream",
     "text": [
      "Digite seu nome:  Flavio\n"
     ]
    },
    {
     "name": "stdout",
     "output_type": "stream",
     "text": [
      "F\n",
      "Fl\n",
      "Fla\n",
      "Flav\n",
      "Flavi\n",
      "Flavio\n"
     ]
    }
   ],
   "source": [
    "nome = input(\"Digite seu nome: \")\n",
    "\n",
    "for i in range(1, len(nome) + 1):\n",
    "    print(nome[:i])"
   ]
  },
  {
   "cell_type": "code",
   "execution_count": null,
   "id": "3bffe7d4-249e-49de-b7fd-87fa4e5a15c3",
   "metadata": {},
   "outputs": [],
   "source": []
  }
 ],
 "metadata": {
  "kernelspec": {
   "display_name": "Python 3 (ipykernel)",
   "language": "python",
   "name": "python3"
  },
  "language_info": {
   "codemirror_mode": {
    "name": "ipython",
    "version": 3
   },
   "file_extension": ".py",
   "mimetype": "text/x-python",
   "name": "python",
   "nbconvert_exporter": "python",
   "pygments_lexer": "ipython3",
   "version": "3.11.7"
  }
 },
 "nbformat": 4,
 "nbformat_minor": 5
}
