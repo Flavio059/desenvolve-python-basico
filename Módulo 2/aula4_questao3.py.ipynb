{
 "cells": [
  {
   "cell_type": "markdown",
   "id": "664eb2ce-54bd-4a16-bd87-5009942b5ed9",
   "metadata": {},
   "source": [
    "3) Você está desenvolvendo um programa para calcular o preço total de uma compra em uma loja online. O preço dos produtos é calculado multiplicando a quantidade pelo preço unitário. Escreva um programa em Python que solicite do usuário o nome, o preço unitário e a quantidade de 3 produtos comprados e imprima ao final o preço total da compra. Note no exemplo a seguir que:\r\n",
    "Cada entrada de dados tem uma mensagem indicando o dado solicitado (mensagens em itálico, dado de entrada em negrito).\r\n",
    "A saída deve estar formatada exatamente como indicado (a string \"Total: R$\" e o preço com um separador de milhar e duas casas decimais).\r\n",
    "Entrada:\r\n",
    "Digite o nome do produto 1: calça\r\n",
    "Digite o preço unitário do produto 1: 199.90\r\n",
    "Digite a quantidade do produto 1: 3\r\n",
    "Digite o nome do produto 2: camisa\r\n",
    "Digite o preço unitário do produto 2: 49.95\r\n",
    "Digite a quantidade do produto 2: 10\r\n",
    "Digite o nome do produto 3: cinto\r\n",
    "Digite o preço unitário do produto 3: 25\r\n",
    "Digite a quantidade do produto 3: 3\r\n",
    "\r\n",
    "Saída:\r\n",
    "Total: R$1,174.20"
   ]
  },
  {
   "cell_type": "code",
   "execution_count": null,
   "id": "33a2a31c-2e17-419e-bf39-854113deaaa6",
   "metadata": {},
   "outputs": [
    {
     "name": "stdin",
     "output_type": "stream",
     "text": [
      "Digite o nome do produto 1:  calça\n",
      "Digite o preço unitário do produto 1:  199.90\n",
      "Digite a quantidade do produto 1:  3\n",
      "Digite o nome do produto 2:  camisa\n",
      "Digite o preço unitário do produto 2:  49.95\n",
      "Digite a quantidade do produto 2:  10\n",
      "Digite o nome do produto 3:  cinto\n"
     ]
    }
   ],
   "source": [
    "produto1= input(\"Digite o nome do produto 1: \")\n",
    "preço1=float(input(\"Digite o preço unitário do produto 1: \"))\n",
    "quantidade1=int(input(\"Digite a quantidade do produto 1: \"))\n",
    "\n",
    "produto2= input(\"Digite o nome do produto 2: \")\n",
    "preço2=float(input(\"Digite o preço unitário do produto 2: \"))\n",
    "quantidade2=int(input(\"Digite a quantidade do produto 2: \"))\n",
    "\n",
    "produto3= input(\"Digite o nome do produto 3: \")\n",
    "preço3=float(input(\"Digite o preço unitário do produto 3: \"))\n",
    "quantidade3=int(input(\"Digite a quantidade do produto 3: \"))\n",
    "\n",
    "total=(preço1*quantidade1)+(preço2*quantidade2)+(preço3*quantidade3)\n",
    "print(f\"Total:R${total:,.2f}\")"
   ]
  },
  {
   "cell_type": "code",
   "execution_count": null,
   "id": "0ee3f448-7607-45c5-8d06-1281e3c3394a",
   "metadata": {},
   "outputs": [],
   "source": []
  }
 ],
 "metadata": {
  "kernelspec": {
   "display_name": "Python 3 (ipykernel)",
   "language": "python",
   "name": "python3"
  },
  "language_info": {
   "codemirror_mode": {
    "name": "ipython",
    "version": 3
   },
   "file_extension": ".py",
   "mimetype": "text/x-python",
   "name": "python",
   "nbconvert_exporter": "python",
   "pygments_lexer": "ipython3",
   "version": "3.11.7"
  }
 },
 "nbformat": 4,
 "nbformat_minor": 5
}
