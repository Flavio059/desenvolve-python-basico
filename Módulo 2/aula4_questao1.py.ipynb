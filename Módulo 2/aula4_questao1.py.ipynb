{
 "cells": [
  {
   "cell_type": "code",
   "execution_count": null,
   "id": "307d78bf-74f2-439a-9302-bf30a607a551",
   "metadata": {},
   "outputs": [
    {
     "name": "stdout",
     "output_type": "stream",
     "text": [
      "Qual é o comprimento do terreno?: 250\n",
      "Qual é a largura do terreno?: 10\n",
      "Qual é o valor do mtero quadrado? 25\n"
     ]
    },
    {
     "ename": "ValueError",
     "evalue": "Invalid format specifier ', .0f' for object of type 'int'",
     "output_type": "error",
     "traceback": [
      "\u001b[1;31m---------------------------------------------------------------------------\u001b[0m",
      "\u001b[1;31mValueError\u001b[0m                                Traceback (most recent call last)",
      "Cell \u001b[1;32mIn[1], line 4\u001b[0m\n\u001b[0;32m      2\u001b[0m areatotal \u001b[38;5;241m=\u001b[39m d1\u001b[38;5;241m*\u001b[39md2 \u001b[38;5;66;03m# largura*comprimento\u001b[39;00m\n\u001b[0;32m      3\u001b[0m precofinal \u001b[38;5;241m=\u001b[39m areatotal \u001b[38;5;241m*\u001b[39m p \u001b[38;5;66;03m#calculo do preco\u001b[39;00m\n\u001b[1;32m----> 4\u001b[0m \u001b[38;5;28mprint\u001b[39m (\u001b[38;5;124mf\u001b[39m\u001b[38;5;124m\"\u001b[39m\u001b[38;5;124mO terreno possui \u001b[39m\u001b[38;5;132;01m{\u001b[39;00mareatotal\u001b[38;5;132;01m:\u001b[39;00m\u001b[38;5;124m, .0f\u001b[39m\u001b[38;5;132;01m}\u001b[39;00m\u001b[38;5;124mm2 e custa R$\u001b[39m\u001b[38;5;132;01m{\u001b[39;00mprecofinal\u001b[38;5;132;01m:\u001b[39;00m\u001b[38;5;124m, .2f\u001b[39m\u001b[38;5;132;01m}\u001b[39;00m\u001b[38;5;124m\"\u001b[39m)\n",
      "\u001b[1;31mValueError\u001b[0m: Invalid format specifier ', .0f' for object of type 'int'"
     ]
    }
   ],
   "source": [
    "d1, d2, p =int (input('Qual é o comprimento do terreno?:')), int (input('Qual é a largura do terreno?:')), float (input('Qual é o valor do mtero quadrado?'))\n",
    "areatotal = d1*d2 # largura*comprimento\n",
    "precofinal = areatotal * p #calculo do preco\n",
    "print (f\"O terreno possui {areatotal}m2 e custa R${precofinal:, .2f}\") #impressão solicitada"
   ]
  },
  {
   "cell_type": "code",
   "execution_count": null,
   "id": "104c3a04-105b-4bf5-a7b1-211d8fba255b",
   "metadata": {},
   "outputs": [
    {
     "ename": "",
     "evalue": "",
     "output_type": "error",
     "traceback": [
      "\u001b[1;31mA execução de células com 'c:\\Users\\Administrador\\AppData\\Local\\Microsoft\\WindowsApps\\python3.12.exe' requer o pacote ipykernel.\n",
      "\u001b[1;31mRun the following command to install 'ipykernel' into the Python environment. \n",
      "\u001b[1;31mCommand: 'c:/Users/Administrador/AppData/Local/Microsoft/WindowsApps/python3.12.exe -m pip install ipykernel -U --user --force-reinstall'"
     ]
    }
   ],
   "source": []
  }
 ],
 "metadata": {
  "kernelspec": {
   "display_name": "Python 3 (ipykernel)",
   "language": "python",
   "name": "python3"
  },
  "language_info": {
   "codemirror_mode": {
    "name": "ipython",
    "version": 3
   },
   "file_extension": ".py",
   "mimetype": "text/x-python",
   "name": "python",
   "nbconvert_exporter": "python",
   "pygments_lexer": "ipython3",
   "version": "3.12.4"
  }
 },
 "nbformat": 4,
 "nbformat_minor": 5
}
