{
 "cells": [
  {
   "cell_type": "markdown",
   "id": "a5343430-bf87-4f31-b944-03ee30f6eeb2",
   "metadata": {},
   "source": [
    "Q1\r\n",
    "Faça um programa que armazene o valor de 20 reais de salário por hora de um trabalhador, e o número de 40 horas trabalhadas na semana. Com essas informações, calcule e imprima:\r\n",
    "\r\n",
    "Salário semanal bruto\r\n",
    "Valor descontado por semana INSS (10% do bruto)\r\n",
    "Valor descontado por semana pelo sindicato (5% do bruto)\r\n",
    "Salário semanal líquido (Bruto - Descontos)"
   ]
  },
  {
   "cell_type": "code",
   "execution_count": 3,
   "id": "7b214f7b-32ed-4af3-95ce-f645b4d129a1",
   "metadata": {},
   "outputs": [
    {
     "name": "stdout",
     "output_type": "stream",
     "text": [
      "800\n",
      "80.0\n",
      "40.0\n",
      "680.0\n"
     ]
    }
   ],
   "source": [
    "bruto = 20*40\n",
    "inss, sindicato=bruto*0.1, bruto*0.05\n",
    "liquido=bruto-(sindicato+inss)\n",
    "print (bruto)\n",
    "print (inss)\n",
    "print (sindicato)\n",
    "print (liquido)"
   ]
  },
  {
   "cell_type": "markdown",
   "id": "1d85d780-5f6f-4e21-877e-f80b6e2df410",
   "metadata": {},
   "source": [
    "Q2\r\n",
    "Altere o programa anterior para a partir dos valores de horas trabalhadas por semana e salário por hora, calcular em somente duas instruções:\r\n",
    "\r\n",
    "Salário semanal bruto\r\n",
    "Salário semanal líquido com todos os descontos. Para a segunda instrução, realize todos os cálculos aritméticos em uma expressão composta."
   ]
  },
  {
   "cell_type": "code",
   "execution_count": 4,
   "id": "ea8fe781-d8bb-4cfc-ba0e-b3ddbea0b873",
   "metadata": {},
   "outputs": [
    {
     "name": "stdout",
     "output_type": "stream",
     "text": [
      "800\n",
      "680.0\n"
     ]
    }
   ],
   "source": [
    "bruto=20*40\n",
    "inss, sindicato, liquido= bruto*0.1, bruto*0.05, bruto-(sindicato+inss)\n",
    "print (bruto)\n",
    "print (liquido)"
   ]
  },
  {
   "cell_type": "markdown",
   "id": "1a4aa90e-1f01-4fab-a1c2-bdff07da745a",
   "metadata": {},
   "source": [
    "Q3\r\n",
    "Você está desenvolvendo um software de conversão de moeda e precisa calcular o valor equivalente em yuan chinês a partir de uma quantia em real. A taxa de câmbio é de 0.69 BRL (real) para 1 CNY (yuan). Escreva um programa que define em uma variável uma quantia em reais (BRL) e calcula o valor equivalente em yuan (CNY). Imprima o resultado."
   ]
  },
  {
   "cell_type": "code",
   "execution_count": 5,
   "id": "ad38e80e-f329-4637-b907-cb4d9e5475b6",
   "metadata": {},
   "outputs": [
    {
     "name": "stdout",
     "output_type": "stream",
     "text": [
      "34.5\n"
     ]
    }
   ],
   "source": [
    "reais = 50\n",
    "yuan = reais*0.69\n",
    "print (yuan)"
   ]
  },
  {
   "cell_type": "markdown",
   "id": "e765da0c-0b63-4cda-8198-eabbc937e750",
   "metadata": {},
   "source": [
    "Q4\r\n",
    "Você é um treinador de corrida e deseja calcular a velocidade média que um atleta precisa manter para completar a Maratona Internacional de São Silvestre, que tem uma distância total de 42.195 km. A fórmula para calcular a velocidade média (\r\n",
    ") é dada por \r\n",
    " \r\n",
    " . Escreva um programa em Python para calcular a velocidade média necessária para completar a maratona em 3 horas.\r\n",
    "\r\n",
    "Calcule e imprima o resultado em metros/segundo, ou seja, converta a distância de quilômetros para metros (\r\n",
    " \r\n",
    ") e a velocidade de horas para segundos \r\n",
    " \r\n",
    "."
   ]
  },
  {
   "cell_type": "code",
   "execution_count": 7,
   "id": "43591686-f886-4ca4-bc21-db86dab48b3a",
   "metadata": {},
   "outputs": [
    {
     "name": "stdout",
     "output_type": "stream",
     "text": [
      "A velocidade média é 42.195 / 0.0008333333333333334\n"
     ]
    }
   ],
   "source": [
    "d, t= 42195, 3\n",
    "metro, seg=d/1000, t/3600\n",
    "print (\"A velocidade média é\", metro, \"/\", seg)"
   ]
  },
  {
   "cell_type": "code",
   "execution_count": null,
   "id": "5c2ac051-13cf-47bc-a7ea-02905eeeb749",
   "metadata": {},
   "outputs": [],
   "source": []
  }
 ],
 "metadata": {
  "kernelspec": {
   "display_name": "Python 3 (ipykernel)",
   "language": "python",
   "name": "python3"
  },
  "language_info": {
   "codemirror_mode": {
    "name": "ipython",
    "version": 3
   },
   "file_extension": ".py",
   "mimetype": "text/x-python",
   "name": "python",
   "nbconvert_exporter": "python",
   "pygments_lexer": "ipython3",
   "version": "3.11.7"
  }
 },
 "nbformat": 4,
 "nbformat_minor": 5
}
