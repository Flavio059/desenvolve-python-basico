{
 "cells": [
  {
   "cell_type": "code",
   "execution_count": 1,
   "id": "aba791ec-0a8e-434c-85ee-559a211a8d72",
   "metadata": {},
   "outputs": [
    {
     "name": "stdin",
     "output_type": "stream",
     "text": [
      "Digite o valor de n:  5\n",
      "Digite o valor de x:  6\n",
      "Digite o valor de x:  6\n",
      "Digite o valor de x:  6\n",
      "Digite o valor de x:  6\n",
      "Digite o valor de x:  5\n"
     ]
    },
    {
     "name": "stdout",
     "output_type": "stream",
     "text": [
      "6\n"
     ]
    }
   ],
   "source": [
    "n = int(input('Digite o valor de n: '))\n",
    "maior = 0\n",
    "\n",
    "while n > 0:\n",
    "    x = int(input('Digite o valor de x: '))\n",
    "    if x > maior:\n",
    "        maior = x\n",
    "    n -= 1\n",
    "\n",
    "print (maior)"
   ]
  },
  {
   "cell_type": "code",
   "execution_count": null,
   "id": "ea6e397b-64bb-4fc3-b1f8-56f13736b40f",
   "metadata": {},
   "outputs": [],
   "source": []
  }
 ],
 "metadata": {
  "kernelspec": {
   "display_name": "Python 3 (ipykernel)",
   "language": "python",
   "name": "python3"
  },
  "language_info": {
   "codemirror_mode": {
    "name": "ipython",
    "version": 3
   },
   "file_extension": ".py",
   "mimetype": "text/x-python",
   "name": "python",
   "nbconvert_exporter": "python",
   "pygments_lexer": "ipython3",
   "version": "3.11.7"
  }
 },
 "nbformat": 4,
 "nbformat_minor": 5
}
