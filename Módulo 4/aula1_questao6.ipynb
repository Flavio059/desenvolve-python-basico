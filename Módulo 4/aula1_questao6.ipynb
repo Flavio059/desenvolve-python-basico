{
 "cells": [
  {
   "cell_type": "code",
   "execution_count": 1,
   "id": "9392bce4-af7d-40ff-b95f-c522c8db3d7c",
   "metadata": {},
   "outputs": [
    {
     "name": "stdin",
     "output_type": "stream",
     "text": [
      "Digite a quantidade de experimentos:  2\n",
      "Qual animal foi utilizado: C_coelho,R_rato ou S_sapo:  C\n",
      "Digite a quantidade de cobaias utilizadas:  3\n",
      "Qual animal foi utilizado: C_coelho,R_rato ou S_sapo:  R\n",
      "Digite a quantidade de cobaias utilizadas:  6\n"
     ]
    },
    {
     "name": "stdout",
     "output_type": "stream",
     "text": [
      "\n",
      "Total de cobaias utilizadas: 9\n",
      "Foram utilizados 3 coelhos, 6 ratos e 0 sapos\n",
      "Sapos representam 0.00%, coelhos representam 33.33% e ratos representam 66.67%.\n"
     ]
    }
   ],
   "source": [
    "n=int(input(\"Digite a quantidade de experimentos: \"))\n",
    "cont,qnt,c,r,s = 0,0,0,0,0\n",
    "\n",
    "while n != cont:\n",
    "    tipo=input(\"Qual animal foi utilizado: C_coelho,R_rato ou S_sapo: \")\n",
    "    qnt=int(input(\"Digite a quantidade de cobaias utilizadas: \"))\n",
    "    \n",
    "    cont +=1\n",
    "    if tipo==\"c\" or tipo==\"C\":\n",
    "        c+=qnt\n",
    "    elif tipo==\"r\" or tipo==\"R\":\n",
    "        r+=qnt\n",
    "    elif tipo==\"s\" or tipo==\"S\":\n",
    "        s+=qnt\n",
    "\n",
    "total=s+c+r\n",
    "\n",
    "print(f\"\\nTotal de cobaias utilizadas: {total}\")\n",
    "print(f\"Foram utilizados {c} coelhos, {r} ratos e {s} sapos\")\n",
    "print(f\"Sapos representam {s/total*100:2.2f}%, coelhos representam {c/total*100:2.2f}% e ratos representam {r/total*100:2.2f}%.\")"
   ]
  },
  {
   "cell_type": "code",
   "execution_count": null,
   "id": "f7c18945-9a43-4a6d-99a8-b05f0229282c",
   "metadata": {},
   "outputs": [],
   "source": []
  }
 ],
 "metadata": {
  "kernelspec": {
   "display_name": "Python 3 (ipykernel)",
   "language": "python",
   "name": "python3"
  },
  "language_info": {
   "codemirror_mode": {
    "name": "ipython",
    "version": 3
   },
   "file_extension": ".py",
   "mimetype": "text/x-python",
   "name": "python",
   "nbconvert_exporter": "python",
   "pygments_lexer": "ipython3",
   "version": "3.11.7"
  }
 },
 "nbformat": 4,
 "nbformat_minor": 5
}
