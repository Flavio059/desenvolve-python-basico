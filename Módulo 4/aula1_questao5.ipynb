{
 "cells": [
  {
   "cell_type": "code",
   "execution_count": 2,
   "id": "deb0792e-935a-43c6-9950-adf47526163d",
   "metadata": {},
   "outputs": [
    {
     "name": "stdin",
     "output_type": "stream",
     "text": [
      "Digite a quantidade de respondentes da pesquisa:  5\n",
      "Digite o valor da idade:  1\n",
      "Digite o valor da idade:  15\n",
      "Digite o valor da idade:  63\n",
      "Digite o valor da idade:  45\n",
      "Digite o valor da idade:  56\n"
     ]
    },
    {
     "name": "stdout",
     "output_type": "stream",
     "text": [
      "A media das idades é igual a 36 anos.\n"
     ]
    }
   ],
   "source": [
    "n = int(input('Digite a quantidade de respondentes da pesquisa: '))\n",
    "soma,controle = 0, n\n",
    "\n",
    "while controle > 0:\n",
    "    soma += int(input('Digite o valor da idade: '))\n",
    "    controle -= 1\n",
    "\n",
    "print(f'A media das idades é igual a {(soma/n):,.0f} anos.')"
   ]
  },
  {
   "cell_type": "code",
   "execution_count": null,
   "id": "d17e350a-7da5-4dde-93f8-780f1bb1f0c2",
   "metadata": {},
   "outputs": [],
   "source": []
  }
 ],
 "metadata": {
  "kernelspec": {
   "display_name": "Python 3 (ipykernel)",
   "language": "python",
   "name": "python3"
  },
  "language_info": {
   "codemirror_mode": {
    "name": "ipython",
    "version": 3
   },
   "file_extension": ".py",
   "mimetype": "text/x-python",
   "name": "python",
   "nbconvert_exporter": "python",
   "pygments_lexer": "ipython3",
   "version": "3.11.7"
  }
 },
 "nbformat": 4,
 "nbformat_minor": 5
}
