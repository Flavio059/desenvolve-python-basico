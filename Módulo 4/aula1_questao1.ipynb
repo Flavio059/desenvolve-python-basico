{
 "cells": [
  {
   "cell_type": "code",
   "execution_count": 2,
   "id": "fee65b3b-c498-47f4-bf11-5b2fc9a70e36",
   "metadata": {},
   "outputs": [
    {
     "name": "stdin",
     "output_type": "stream",
     "text": [
      "Digite o valor de X:  9\n"
     ]
    },
    {
     "name": "stdout",
     "output_type": "stream",
     "text": [
      "Maior que 5\n",
      "Fim\n"
     ]
    }
   ],
   "source": [
    "x = int(input('Digite o valor de X: '))\n",
    "\n",
    "if (x>5):\n",
    "    print('Maior que 5')\n",
    "\n",
    "print('Fim')"
   ]
  },
  {
   "cell_type": "code",
   "execution_count": null,
   "id": "6ee8c992-4534-4d41-9a17-8dc6dab2e66d",
   "metadata": {},
   "outputs": [],
   "source": []
  }
 ],
 "metadata": {
  "kernelspec": {
   "display_name": "Python 3 (ipykernel)",
   "language": "python",
   "name": "python3"
  },
  "language_info": {
   "codemirror_mode": {
    "name": "ipython",
    "version": 3
   },
   "file_extension": ".py",
   "mimetype": "text/x-python",
   "name": "python",
   "nbconvert_exporter": "python",
   "pygments_lexer": "ipython3",
   "version": "3.11.7"
  }
 },
 "nbformat": 4,
 "nbformat_minor": 5
}
