{
 "cells": [
  {
   "cell_type": "code",
   "execution_count": 3,
   "id": "573e6e44-c3a9-473f-886a-99fa0c5d8f88",
   "metadata": {},
   "outputs": [
    {
     "name": "stdin",
     "output_type": "stream",
     "text": [
      "Digite o valor de n1:  19\n",
      "Digite o valor de n2:  21\n",
      "Digite o valor de n3:  13\n"
     ]
    },
    {
     "name": "stdout",
     "output_type": "stream",
     "text": [
      "Reprovado\n",
      "Fim\n"
     ]
    }
   ],
   "source": [
    "n1,n2,n3 = int(input('Digite o valor de n1: ')),int(input('Digite o valor de n2: ')),int(input('Digite o valor de n3: '))\n",
    "\n",
    "m = (n1+n2+n3)/3\n",
    "\n",
    "if m >= 60:\n",
    "    print('Aprovado')\n",
    "elif m >= 40:\n",
    "    print('Recuperação')\n",
    "else:\n",
    "    print('Reprovado')\n",
    "\n",
    "print('Fim')"
   ]
  },
  {
   "cell_type": "code",
   "execution_count": null,
   "id": "bbef13fc-ef4b-4039-96db-d7d036ceb4bc",
   "metadata": {},
   "outputs": [],
   "source": []
  }
 ],
 "metadata": {
  "kernelspec": {
   "display_name": "Python 3 (ipykernel)",
   "language": "python",
   "name": "python3"
  },
  "language_info": {
   "codemirror_mode": {
    "name": "ipython",
    "version": 3
   },
   "file_extension": ".py",
   "mimetype": "text/x-python",
   "name": "python",
   "nbconvert_exporter": "python",
   "pygments_lexer": "ipython3",
   "version": "3.11.7"
  }
 },
 "nbformat": 4,
 "nbformat_minor": 5
}
