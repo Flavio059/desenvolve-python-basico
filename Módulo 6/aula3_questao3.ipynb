{
 "cells": [
  {
   "cell_type": "markdown",
   "id": "87582d08-5e44-44d7-b6de-ff7541baf173",
   "metadata": {},
   "source": [
    "Crie uma lista com 20 elementos, entre -10 e 10, gerados aleatoriamente. Em seguida encontre o intervalo \n",
    "que possui a maior quantidade de números negativos e delete ele da lista com o operador del. Você deve imprimir a lista antes e depois da deleção.\r\n",
    "\r\n",
    "Original: [9, 2, -1, 4, -2, -3, 5, 6, -7, -4, -1, 6, 8, -3, -6]\r\n",
    "Editada:  [9, 2, -1, 4, -2, -3, 5, 6, 6, 8, -3, -6]"
   ]
  },
  {
   "cell_type": "code",
   "execution_count": 1,
   "id": "9ab4171e-3ee2-4b12-ba74-e388c6b5f2aa",
   "metadata": {},
   "outputs": [
    {
     "name": "stdout",
     "output_type": "stream",
     "text": [
      "Original: [9, 4, 0, -2, -2, -10, 8, -10, -2, 6, 4, 10, -8, -7, 8, -4, 8, 3, -1, -2]\n",
      "Editada: [9, 4, 0, 8, -10, -2, 6, 4, 10, -8, -7, 8, -4, 8, 3, -1, -2]\n"
     ]
    }
   ],
   "source": [
    "import random\n",
    "\n",
    "def gerar_lista_aleatoria(tamanho):\n",
    "    lista = [random.randint(-10, 10) for _ in range(tamanho)]\n",
    "    return lista\n",
    "\n",
    "def encontrar_maior_intervalo_negativo(lista):\n",
    "    maior_inicio = 0\n",
    "    maior_fim = 0\n",
    "    maior_contagem = 0\n",
    "    \n",
    "    inicio = 0\n",
    "    while inicio < len(lista):\n",
    "        if lista[inicio] < 0:\n",
    "            fim = inicio\n",
    "            while fim < len(lista) and lista[fim] < 0:\n",
    "                fim += 1\n",
    "            contagem = fim - inicio\n",
    "            if contagem > maior_contagem:\n",
    "                maior_contagem = contagem\n",
    "                maior_inicio = inicio\n",
    "                maior_fim = fim\n",
    "            inicio = fim\n",
    "        else:\n",
    "            inicio += 1\n",
    "    \n",
    "    return maior_inicio, maior_fim\n",
    "\n",
    "def main():\n",
    "    lista = gerar_lista_aleatoria(20)\n",
    "    print(\"Original:\", lista)\n",
    "    \n",
    "    inicio, fim = encontrar_maior_intervalo_negativo(lista)\n",
    "    del lista[inicio:fim]\n",
    "    \n",
    "    print(\"Editada:\", lista)\n",
    "\n",
    "if __name__ == \"__main__\":\n",
    "    main()"
   ]
  },
  {
   "cell_type": "code",
   "execution_count": null,
   "id": "f2e32a09-d0b2-4072-b4bd-5b18ae7283f6",
   "metadata": {},
   "outputs": [],
   "source": []
  }
 ],
 "metadata": {
  "kernelspec": {
   "display_name": "Python 3 (ipykernel)",
   "language": "python",
   "name": "python3"
  },
  "language_info": {
   "codemirror_mode": {
    "name": "ipython",
    "version": 3
   },
   "file_extension": ".py",
   "mimetype": "text/x-python",
   "name": "python",
   "nbconvert_exporter": "python",
   "pygments_lexer": "ipython3",
   "version": "3.11.7"
  }
 },
 "nbformat": 4,
 "nbformat_minor": 5
}
