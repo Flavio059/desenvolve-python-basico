{
 "cells": [
  {
   "cell_type": "code",
   "execution_count": null,
   "id": "bd26df11-a1a1-43ff-bb45-a706f97fa7a0",
   "metadata": {},
   "outputs": [],
   "source": [
    "nums = [19, 22, -10, -2, -3, 5, 6, -17, -4, -1, 67, 98, -23, -6]"
   ]
  },
  {
   "cell_type": "code",
   "execution_count": 3,
   "id": "f335a7c4-4e89-4f82-8c1d-a200baf39c01",
   "metadata": {},
   "outputs": [
    {
     "ename": "NameError",
     "evalue": "name 'nums' is not defined",
     "output_type": "error",
     "traceback": [
      "\u001b[1;31m---------------------------------------------------------------------------\u001b[0m",
      "\u001b[1;31mNameError\u001b[0m                                 Traceback (most recent call last)",
      "Cell \u001b[1;32mIn[3], line 4\u001b[0m\n\u001b[0;32m      1\u001b[0m \u001b[38;5;66;03m# encontrar o maior número de lista e seu índice\u001b[39;00m\n\u001b[0;32m      2\u001b[0m idx_maior, val_maior \u001b[38;5;241m=\u001b[39m \u001b[38;5;241m0\u001b[39m, \u001b[38;5;28mfloat\u001b[39m (\u001b[38;5;124m'\u001b[39m\u001b[38;5;124m-inf\u001b[39m\u001b[38;5;124m'\u001b[39m)\n\u001b[1;32m----> 4\u001b[0m \u001b[38;5;28;01mfor\u001b[39;00m i \u001b[38;5;129;01min\u001b[39;00m \u001b[38;5;28mrange\u001b[39m (\u001b[38;5;28mlen\u001b[39m(nums)): \u001b[38;5;66;03m# iterando nos valores\u001b[39;00m\n\u001b[0;32m      5\u001b[0m     \u001b[38;5;28mprint\u001b[39m (i, nums[i], end \u001b[38;5;241m=\u001b[39m \u001b[38;5;124m'\u001b[39m\u001b[38;5;124m'\u001b[39m)\n\u001b[0;32m      6\u001b[0m     \u001b[38;5;28;01mif\u001b[39;00m nums[i] \u001b[38;5;241m>\u001b[39m val_maior:\n",
      "\u001b[1;31mNameError\u001b[0m: name 'nums' is not defined"
     ]
    }
   ],
   "source": [
    "# encontrar o maior número de lista e seu índice\n",
    "idx_maior, val_maior = 0, float ('-inf')\n",
    "\n",
    "for i in range (len(nums)): # iterando nos valores\n",
    "    print (i, nums[i], end = '')\n",
    "    if nums[i] > val_maior:\n",
    "        val_maior = nums[i] # registrando maior valor (até agora)\n",
    "        idx_maior = i       # registrando índice do maior valor (até)\n",
    "        print ('maior até agora')\n",
    "        \n",
    "print ('\\nMaior ao final do laço:', idx_maior, val_maior)\n"
   ]
  },
  {
   "cell_type": "code",
   "execution_count": 8,
   "id": "f7897d16-93f7-448f-b543-e174aaf7d494",
   "metadata": {},
   "outputs": [
    {
     "name": "stdout",
     "output_type": "stream",
     "text": [
      "Inicio do laço 0 19\n",
      "Inicio do laço 1 22\n",
      "Inicio do laço 2 -10\n",
      "Inicio nova fatia 1\n",
      "Inicio do laço 3 -2\n",
      "Inicio do laço 4 -3\n",
      "Inicio do laço 5 5\n",
      "Maior fatia até agora 3\n",
      "Inicio do laço 6 6\n",
      "Inicio do laço 7 -17\n",
      "Inicio nova fatia 1\n",
      "Inicio do laço 8 -4\n",
      "Inicio do laço 9 -1\n",
      "Inicio do laço 10 67\n",
      "Inicio do laço 11 98\n",
      "Inicio do laço 12 -23\n",
      "Inicio nova fatia 1\n",
      "Inicio do laço 13 -6\n",
      "2 3\n"
     ]
    },
    {
     "ename": "NameError",
     "evalue": "name 'inicio_fatia' is not defined",
     "output_type": "error",
     "traceback": [
      "\u001b[1;31m---------------------------------------------------------------------------\u001b[0m",
      "\u001b[1;31mNameError\u001b[0m                                 Traceback (most recent call last)",
      "Cell \u001b[1;32mIn[8], line 25\u001b[0m\n\u001b[0;32m     22\u001b[0m         tam_fatia_atual \u001b[38;5;241m=\u001b[39m \u001b[38;5;241m0\u001b[39m\n\u001b[0;32m     24\u001b[0m \u001b[38;5;28mprint\u001b[39m(inicio_fatia_maior, tam_fatia_maior)\n\u001b[1;32m---> 25\u001b[0m \u001b[38;5;28;01mdel\u001b[39;00m nums[inicio_fatia\u001b[38;5;241m-\u001b[39mmaior: inicio_fatia_maior\u001b[38;5;241m+\u001b[39mtam_fatia_maior]\n\u001b[0;32m     26\u001b[0m \u001b[38;5;28mprint\u001b[39m(nums)\n",
      "\u001b[1;31mNameError\u001b[0m: name 'inicio_fatia' is not defined"
     ]
    }
   ],
   "source": [
    "nums = [19, 22, -10, -2, -3, 5, 6, -17, -4, -1, 67, 98, -23, -6]\n",
    "\n",
    "# quando visitar um numero negativo\n",
    "# início de uma fatia\n",
    "# continuação de uma fatia\n",
    "\n",
    "inicio_fatia_maior, tam_fatia_maior = 0, 0\n",
    "inicio_fatia_atual, tam_fatia_atual = 0, 0 \n",
    "\n",
    "for i in range(len(nums)):\n",
    "    print('Inicio do laço', i, nums[i])\n",
    "    if nums[i] < 0:\n",
    "        tam_fatia_atual += 1 # 1\n",
    "        if tam_fatia_atual == 1: # se estou iniciando nova fatia\n",
    "            print('Inicio nova fatia', tam_fatia_atual)\n",
    "            inicio_fatia_atual = i\n",
    "    else: # if nums[i] >= 0\n",
    "        if tam_fatia_atual > tam_fatia_maior:\n",
    "            print('Maior fatia até agora', tam_fatia_atual)\n",
    "            tam_fatia_maior = tam_fatia_atual\n",
    "            inicio_fatia_maior = inicio_fatia_atual\n",
    "        tam_fatia_atual = 0\n"
   ]
  },
  {
   "cell_type": "code",
   "execution_count": null,
   "id": "41c45e44-fdc0-433d-8e37-9f9874972873",
   "metadata": {},
   "outputs": [],
   "source": []
  }
 ],
 "metadata": {
  "kernelspec": {
   "display_name": "Python 3 (ipykernel)",
   "language": "python",
   "name": "python3"
  },
  "language_info": {
   "codemirror_mode": {
    "name": "ipython",
    "version": 3
   },
   "file_extension": ".py",
   "mimetype": "text/x-python",
   "name": "python",
   "nbconvert_exporter": "python",
   "pygments_lexer": "ipython3",
   "version": "3.11.7"
  }
 },
 "nbformat": 4,
 "nbformat_minor": 5
}
